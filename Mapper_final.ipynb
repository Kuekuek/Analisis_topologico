{
 "cells": [
  {
   "cell_type": "code",
   "execution_count": 104,
   "id": "2eaf3fb1",
   "metadata": {
    "scrolled": true
   },
   "outputs": [],
   "source": [
    "# Data wrangling\n",
    "import numpy as np\n",
    "import pandas as pd  # Not a requirement of giotto-tda, but is compatible with the gtda.mapper module\n",
    "import matplotlib.pyplot as plt\n",
    "\n",
    "# Data viz\n",
    "from gtda.mapper.visualization import plot_static_mapper_graph, plot_interactive_mapper_graph\n",
    "\n",
    "from gtda.plotting import plot_point_cloud\n",
    "\n",
    "# TDA magic\n",
    "from gtda.mapper import (\n",
    "    CubicalCover,\n",
    "    make_mapper_pipeline,\n",
    "    Projection,\n",
    "    plot_static_mapper_graph,\n",
    "    plot_interactive_mapper_graph,\n",
    ")\n",
    "\n",
    "\n",
    "# ML tools\n",
    "from sklearn import datasets\n",
    "from sklearn.cluster import DBSCAN\n",
    "from sklearn.decomposition import PCA\n",
    "from sklearn.cluster import KMeans\n",
    "from sklearn.preprocessing import StandardScaler"
   ]
  },
  {
   "cell_type": "code",
   "execution_count": 105,
   "id": "002c2f41",
   "metadata": {},
   "outputs": [
    {
     "data": {
      "application/vnd.microsoft.datawrangler.viewer.v0+json": {
       "columns": [
        {
         "name": "index",
         "rawType": "int64",
         "type": "integer"
        },
        {
         "name": "culmen_length_mm",
         "rawType": "float64",
         "type": "float"
        },
        {
         "name": "culmen_depth_mm",
         "rawType": "float64",
         "type": "float"
        },
        {
         "name": "flipper_length_mm",
         "rawType": "float64",
         "type": "float"
        },
        {
         "name": "body_mass_g",
         "rawType": "float64",
         "type": "float"
        },
        {
         "name": "sex",
         "rawType": "object",
         "type": "unknown"
        }
       ],
       "conversionMethod": "pd.DataFrame",
       "ref": "ebb28704-9ce7-47c1-a99c-5b9e40d30a03",
       "rows": [
        [
         "0",
         "39.1",
         "18.7",
         "181.0",
         "3750.0",
         "MALE"
        ],
        [
         "1",
         "39.5",
         "17.4",
         "186.0",
         "3800.0",
         "FEMALE"
        ],
        [
         "2",
         "40.3",
         "18.0",
         "195.0",
         "3250.0",
         "FEMALE"
        ],
        [
         "3",
         null,
         null,
         null,
         null,
         null
        ],
        [
         "4",
         "36.7",
         "19.3",
         "193.0",
         "3450.0",
         "FEMALE"
        ],
        [
         "5",
         "39.3",
         "20.6",
         "190.0",
         "3650.0",
         "MALE"
        ],
        [
         "6",
         "38.9",
         "17.8",
         "181.0",
         "3625.0",
         "FEMALE"
        ],
        [
         "7",
         "39.2",
         "19.6",
         "195.0",
         "4675.0",
         "MALE"
        ],
        [
         "8",
         "34.1",
         "18.1",
         "193.0",
         "3475.0",
         null
        ],
        [
         "9",
         "42.0",
         "20.2",
         "5000.0",
         "4250.0",
         "MALE"
        ],
        [
         "10",
         "37.8",
         "17.1",
         "186.0",
         "3300.0",
         null
        ],
        [
         "11",
         "37.8",
         "17.3",
         "180.0",
         "3700.0",
         null
        ],
        [
         "12",
         "41.1",
         "17.6",
         "182.0",
         "3200.0",
         "FEMALE"
        ],
        [
         "13",
         "38.6",
         "21.2",
         "191.0",
         "3800.0",
         "MALE"
        ],
        [
         "14",
         "34.6",
         "21.1",
         "-132.0",
         "4400.0",
         "MALE"
        ],
        [
         "15",
         "36.6",
         "17.8",
         "185.0",
         "3700.0",
         "FEMALE"
        ],
        [
         "16",
         "38.7",
         "19.0",
         "195.0",
         "3450.0",
         "FEMALE"
        ],
        [
         "17",
         "42.5",
         "20.7",
         "197.0",
         "4500.0",
         "MALE"
        ],
        [
         "18",
         "34.4",
         "18.4",
         "184.0",
         "3325.0",
         "FEMALE"
        ],
        [
         "19",
         "46.0",
         "21.5",
         "194.0",
         "4200.0",
         "MALE"
        ],
        [
         "20",
         "37.8",
         "18.3",
         "174.0",
         "3400.0",
         "FEMALE"
        ],
        [
         "21",
         "37.7",
         "18.7",
         "180.0",
         "3600.0",
         "MALE"
        ],
        [
         "22",
         "35.9",
         "19.2",
         "189.0",
         "3800.0",
         "FEMALE"
        ],
        [
         "23",
         "38.2",
         "18.1",
         "185.0",
         "3950.0",
         "MALE"
        ],
        [
         "24",
         "38.8",
         "17.2",
         "180.0",
         "3800.0",
         "MALE"
        ],
        [
         "25",
         "35.3",
         "18.9",
         "187.0",
         "3800.0",
         "FEMALE"
        ],
        [
         "26",
         "40.6",
         "18.6",
         "183.0",
         "3550.0",
         "MALE"
        ],
        [
         "27",
         "40.5",
         "17.9",
         "187.0",
         "3200.0",
         "FEMALE"
        ],
        [
         "28",
         "37.9",
         "18.6",
         "172.0",
         "3150.0",
         "FEMALE"
        ],
        [
         "29",
         "40.5",
         "18.9",
         "180.0",
         "3950.0",
         "MALE"
        ],
        [
         "30",
         "39.5",
         "16.7",
         "178.0",
         "3250.0",
         "FEMALE"
        ],
        [
         "31",
         "37.2",
         "18.1",
         "178.0",
         "3900.0",
         "MALE"
        ],
        [
         "32",
         "39.5",
         "17.8",
         "188.0",
         "3300.0",
         "FEMALE"
        ],
        [
         "33",
         "40.9",
         "18.9",
         "184.0",
         "3900.0",
         "MALE"
        ],
        [
         "34",
         "36.4",
         "17.0",
         "195.0",
         "3325.0",
         "FEMALE"
        ],
        [
         "35",
         "39.2",
         "21.1",
         "196.0",
         "4150.0",
         "MALE"
        ],
        [
         "36",
         "38.8",
         "20.0",
         "190.0",
         "3950.0",
         "MALE"
        ],
        [
         "37",
         "42.2",
         "18.5",
         "180.0",
         "3550.0",
         "FEMALE"
        ],
        [
         "38",
         "37.6",
         "19.3",
         "181.0",
         "3300.0",
         "FEMALE"
        ],
        [
         "39",
         "39.8",
         "19.1",
         "184.0",
         "4650.0",
         "MALE"
        ],
        [
         "40",
         "36.5",
         "18.0",
         "182.0",
         "3150.0",
         "FEMALE"
        ],
        [
         "41",
         "40.8",
         "18.4",
         "195.0",
         "3900.0",
         "MALE"
        ],
        [
         "42",
         "36.0",
         "18.5",
         "186.0",
         "3100.0",
         "FEMALE"
        ],
        [
         "43",
         "44.1",
         "19.7",
         "196.0",
         "4400.0",
         "MALE"
        ],
        [
         "44",
         "37.0",
         "16.9",
         "185.0",
         "3000.0",
         "FEMALE"
        ],
        [
         "45",
         "39.6",
         "18.8",
         "190.0",
         "4600.0",
         "MALE"
        ],
        [
         "46",
         "41.1",
         "19.0",
         "182.0",
         "3425.0",
         "MALE"
        ],
        [
         "47",
         "37.5",
         "18.9",
         "179.0",
         "2975.0",
         null
        ],
        [
         "48",
         "36.0",
         "17.9",
         "190.0",
         "3450.0",
         "FEMALE"
        ],
        [
         "49",
         "42.3",
         "21.2",
         "191.0",
         "4150.0",
         "MALE"
        ]
       ],
       "shape": {
        "columns": 5,
        "rows": 344
       }
      },
      "text/html": [
       "<div>\n",
       "<style scoped>\n",
       "    .dataframe tbody tr th:only-of-type {\n",
       "        vertical-align: middle;\n",
       "    }\n",
       "\n",
       "    .dataframe tbody tr th {\n",
       "        vertical-align: top;\n",
       "    }\n",
       "\n",
       "    .dataframe thead th {\n",
       "        text-align: right;\n",
       "    }\n",
       "</style>\n",
       "<table border=\"1\" class=\"dataframe\">\n",
       "  <thead>\n",
       "    <tr style=\"text-align: right;\">\n",
       "      <th></th>\n",
       "      <th>culmen_length_mm</th>\n",
       "      <th>culmen_depth_mm</th>\n",
       "      <th>flipper_length_mm</th>\n",
       "      <th>body_mass_g</th>\n",
       "      <th>sex</th>\n",
       "    </tr>\n",
       "  </thead>\n",
       "  <tbody>\n",
       "    <tr>\n",
       "      <th>0</th>\n",
       "      <td>39.1</td>\n",
       "      <td>18.7</td>\n",
       "      <td>181.0</td>\n",
       "      <td>3750.0</td>\n",
       "      <td>MALE</td>\n",
       "    </tr>\n",
       "    <tr>\n",
       "      <th>1</th>\n",
       "      <td>39.5</td>\n",
       "      <td>17.4</td>\n",
       "      <td>186.0</td>\n",
       "      <td>3800.0</td>\n",
       "      <td>FEMALE</td>\n",
       "    </tr>\n",
       "    <tr>\n",
       "      <th>2</th>\n",
       "      <td>40.3</td>\n",
       "      <td>18.0</td>\n",
       "      <td>195.0</td>\n",
       "      <td>3250.0</td>\n",
       "      <td>FEMALE</td>\n",
       "    </tr>\n",
       "    <tr>\n",
       "      <th>3</th>\n",
       "      <td>NaN</td>\n",
       "      <td>NaN</td>\n",
       "      <td>NaN</td>\n",
       "      <td>NaN</td>\n",
       "      <td>NaN</td>\n",
       "    </tr>\n",
       "    <tr>\n",
       "      <th>4</th>\n",
       "      <td>36.7</td>\n",
       "      <td>19.3</td>\n",
       "      <td>193.0</td>\n",
       "      <td>3450.0</td>\n",
       "      <td>FEMALE</td>\n",
       "    </tr>\n",
       "    <tr>\n",
       "      <th>...</th>\n",
       "      <td>...</td>\n",
       "      <td>...</td>\n",
       "      <td>...</td>\n",
       "      <td>...</td>\n",
       "      <td>...</td>\n",
       "    </tr>\n",
       "    <tr>\n",
       "      <th>339</th>\n",
       "      <td>NaN</td>\n",
       "      <td>NaN</td>\n",
       "      <td>NaN</td>\n",
       "      <td>NaN</td>\n",
       "      <td>NaN</td>\n",
       "    </tr>\n",
       "    <tr>\n",
       "      <th>340</th>\n",
       "      <td>46.8</td>\n",
       "      <td>14.3</td>\n",
       "      <td>215.0</td>\n",
       "      <td>4850.0</td>\n",
       "      <td>FEMALE</td>\n",
       "    </tr>\n",
       "    <tr>\n",
       "      <th>341</th>\n",
       "      <td>50.4</td>\n",
       "      <td>15.7</td>\n",
       "      <td>222.0</td>\n",
       "      <td>5750.0</td>\n",
       "      <td>MALE</td>\n",
       "    </tr>\n",
       "    <tr>\n",
       "      <th>342</th>\n",
       "      <td>45.2</td>\n",
       "      <td>14.8</td>\n",
       "      <td>212.0</td>\n",
       "      <td>5200.0</td>\n",
       "      <td>FEMALE</td>\n",
       "    </tr>\n",
       "    <tr>\n",
       "      <th>343</th>\n",
       "      <td>49.9</td>\n",
       "      <td>16.1</td>\n",
       "      <td>213.0</td>\n",
       "      <td>5400.0</td>\n",
       "      <td>MALE</td>\n",
       "    </tr>\n",
       "  </tbody>\n",
       "</table>\n",
       "<p>344 rows × 5 columns</p>\n",
       "</div>"
      ],
      "text/plain": [
       "     culmen_length_mm  culmen_depth_mm  flipper_length_mm  body_mass_g     sex\n",
       "0                39.1             18.7              181.0       3750.0    MALE\n",
       "1                39.5             17.4              186.0       3800.0  FEMALE\n",
       "2                40.3             18.0              195.0       3250.0  FEMALE\n",
       "3                 NaN              NaN                NaN          NaN     NaN\n",
       "4                36.7             19.3              193.0       3450.0  FEMALE\n",
       "..                ...              ...                ...          ...     ...\n",
       "339               NaN              NaN                NaN          NaN     NaN\n",
       "340              46.8             14.3              215.0       4850.0  FEMALE\n",
       "341              50.4             15.7              222.0       5750.0    MALE\n",
       "342              45.2             14.8              212.0       5200.0  FEMALE\n",
       "343              49.9             16.1              213.0       5400.0    MALE\n",
       "\n",
       "[344 rows x 5 columns]"
      ]
     },
     "execution_count": 105,
     "metadata": {},
     "output_type": "execute_result"
    }
   ],
   "source": [
    "datos =pd.read_csv('penguins (1).csv')\n",
    "datos"
   ]
  },
  {
   "cell_type": "code",
   "execution_count": 106,
   "id": "d322dbee",
   "metadata": {},
   "outputs": [
    {
     "data": {
      "application/vnd.microsoft.datawrangler.viewer.v0+json": {
       "columns": [
        {
         "name": "index",
         "rawType": "int64",
         "type": "integer"
        },
        {
         "name": "culmen_length_mm",
         "rawType": "float64",
         "type": "float"
        },
        {
         "name": "culmen_depth_mm",
         "rawType": "float64",
         "type": "float"
        },
        {
         "name": "flipper_length_mm",
         "rawType": "float64",
         "type": "float"
        },
        {
         "name": "body_mass_g",
         "rawType": "float64",
         "type": "float"
        },
        {
         "name": "sex",
         "rawType": "object",
         "type": "string"
        }
       ],
       "conversionMethod": "pd.DataFrame",
       "ref": "a6e06cd5-2ae4-4522-8db6-e9feb406ca91",
       "rows": [
        [
         "0",
         "39.1",
         "18.7",
         "181.0",
         "3750.0",
         "MALE"
        ],
        [
         "1",
         "39.5",
         "17.4",
         "186.0",
         "3800.0",
         "FEMALE"
        ],
        [
         "2",
         "40.3",
         "18.0",
         "195.0",
         "3250.0",
         "FEMALE"
        ],
        [
         "4",
         "36.7",
         "19.3",
         "193.0",
         "3450.0",
         "FEMALE"
        ],
        [
         "5",
         "39.3",
         "20.6",
         "190.0",
         "3650.0",
         "MALE"
        ],
        [
         "6",
         "38.9",
         "17.8",
         "181.0",
         "3625.0",
         "FEMALE"
        ],
        [
         "7",
         "39.2",
         "19.6",
         "195.0",
         "4675.0",
         "MALE"
        ],
        [
         "9",
         "42.0",
         "20.2",
         "5000.0",
         "4250.0",
         "MALE"
        ],
        [
         "12",
         "41.1",
         "17.6",
         "182.0",
         "3200.0",
         "FEMALE"
        ],
        [
         "13",
         "38.6",
         "21.2",
         "191.0",
         "3800.0",
         "MALE"
        ],
        [
         "14",
         "34.6",
         "21.1",
         "-132.0",
         "4400.0",
         "MALE"
        ],
        [
         "15",
         "36.6",
         "17.8",
         "185.0",
         "3700.0",
         "FEMALE"
        ],
        [
         "16",
         "38.7",
         "19.0",
         "195.0",
         "3450.0",
         "FEMALE"
        ],
        [
         "17",
         "42.5",
         "20.7",
         "197.0",
         "4500.0",
         "MALE"
        ],
        [
         "18",
         "34.4",
         "18.4",
         "184.0",
         "3325.0",
         "FEMALE"
        ],
        [
         "19",
         "46.0",
         "21.5",
         "194.0",
         "4200.0",
         "MALE"
        ],
        [
         "20",
         "37.8",
         "18.3",
         "174.0",
         "3400.0",
         "FEMALE"
        ],
        [
         "21",
         "37.7",
         "18.7",
         "180.0",
         "3600.0",
         "MALE"
        ],
        [
         "22",
         "35.9",
         "19.2",
         "189.0",
         "3800.0",
         "FEMALE"
        ],
        [
         "23",
         "38.2",
         "18.1",
         "185.0",
         "3950.0",
         "MALE"
        ],
        [
         "24",
         "38.8",
         "17.2",
         "180.0",
         "3800.0",
         "MALE"
        ],
        [
         "25",
         "35.3",
         "18.9",
         "187.0",
         "3800.0",
         "FEMALE"
        ],
        [
         "26",
         "40.6",
         "18.6",
         "183.0",
         "3550.0",
         "MALE"
        ],
        [
         "27",
         "40.5",
         "17.9",
         "187.0",
         "3200.0",
         "FEMALE"
        ],
        [
         "28",
         "37.9",
         "18.6",
         "172.0",
         "3150.0",
         "FEMALE"
        ],
        [
         "29",
         "40.5",
         "18.9",
         "180.0",
         "3950.0",
         "MALE"
        ],
        [
         "30",
         "39.5",
         "16.7",
         "178.0",
         "3250.0",
         "FEMALE"
        ],
        [
         "31",
         "37.2",
         "18.1",
         "178.0",
         "3900.0",
         "MALE"
        ],
        [
         "32",
         "39.5",
         "17.8",
         "188.0",
         "3300.0",
         "FEMALE"
        ],
        [
         "33",
         "40.9",
         "18.9",
         "184.0",
         "3900.0",
         "MALE"
        ],
        [
         "34",
         "36.4",
         "17.0",
         "195.0",
         "3325.0",
         "FEMALE"
        ],
        [
         "35",
         "39.2",
         "21.1",
         "196.0",
         "4150.0",
         "MALE"
        ],
        [
         "36",
         "38.8",
         "20.0",
         "190.0",
         "3950.0",
         "MALE"
        ],
        [
         "37",
         "42.2",
         "18.5",
         "180.0",
         "3550.0",
         "FEMALE"
        ],
        [
         "38",
         "37.6",
         "19.3",
         "181.0",
         "3300.0",
         "FEMALE"
        ],
        [
         "39",
         "39.8",
         "19.1",
         "184.0",
         "4650.0",
         "MALE"
        ],
        [
         "40",
         "36.5",
         "18.0",
         "182.0",
         "3150.0",
         "FEMALE"
        ],
        [
         "41",
         "40.8",
         "18.4",
         "195.0",
         "3900.0",
         "MALE"
        ],
        [
         "42",
         "36.0",
         "18.5",
         "186.0",
         "3100.0",
         "FEMALE"
        ],
        [
         "43",
         "44.1",
         "19.7",
         "196.0",
         "4400.0",
         "MALE"
        ],
        [
         "44",
         "37.0",
         "16.9",
         "185.0",
         "3000.0",
         "FEMALE"
        ],
        [
         "45",
         "39.6",
         "18.8",
         "190.0",
         "4600.0",
         "MALE"
        ],
        [
         "46",
         "41.1",
         "19.0",
         "182.0",
         "3425.0",
         "MALE"
        ],
        [
         "48",
         "36.0",
         "17.9",
         "190.0",
         "3450.0",
         "FEMALE"
        ],
        [
         "49",
         "42.3",
         "21.2",
         "191.0",
         "4150.0",
         "MALE"
        ],
        [
         "50",
         "39.6",
         "17.7",
         "186.0",
         "3500.0",
         "FEMALE"
        ],
        [
         "51",
         "40.1",
         "18.9",
         "188.0",
         "4300.0",
         "MALE"
        ],
        [
         "52",
         "35.0",
         "17.9",
         "190.0",
         "3450.0",
         "FEMALE"
        ],
        [
         "53",
         "42.0",
         "19.5",
         "200.0",
         "4050.0",
         "MALE"
        ],
        [
         "54",
         "34.5",
         "18.1",
         "187.0",
         "2900.0",
         "FEMALE"
        ]
       ],
       "shape": {
        "columns": 5,
        "rows": 335
       }
      },
      "text/html": [
       "<div>\n",
       "<style scoped>\n",
       "    .dataframe tbody tr th:only-of-type {\n",
       "        vertical-align: middle;\n",
       "    }\n",
       "\n",
       "    .dataframe tbody tr th {\n",
       "        vertical-align: top;\n",
       "    }\n",
       "\n",
       "    .dataframe thead th {\n",
       "        text-align: right;\n",
       "    }\n",
       "</style>\n",
       "<table border=\"1\" class=\"dataframe\">\n",
       "  <thead>\n",
       "    <tr style=\"text-align: right;\">\n",
       "      <th></th>\n",
       "      <th>culmen_length_mm</th>\n",
       "      <th>culmen_depth_mm</th>\n",
       "      <th>flipper_length_mm</th>\n",
       "      <th>body_mass_g</th>\n",
       "      <th>sex</th>\n",
       "    </tr>\n",
       "  </thead>\n",
       "  <tbody>\n",
       "    <tr>\n",
       "      <th>0</th>\n",
       "      <td>39.1</td>\n",
       "      <td>18.7</td>\n",
       "      <td>181.0</td>\n",
       "      <td>3750.0</td>\n",
       "      <td>MALE</td>\n",
       "    </tr>\n",
       "    <tr>\n",
       "      <th>1</th>\n",
       "      <td>39.5</td>\n",
       "      <td>17.4</td>\n",
       "      <td>186.0</td>\n",
       "      <td>3800.0</td>\n",
       "      <td>FEMALE</td>\n",
       "    </tr>\n",
       "    <tr>\n",
       "      <th>2</th>\n",
       "      <td>40.3</td>\n",
       "      <td>18.0</td>\n",
       "      <td>195.0</td>\n",
       "      <td>3250.0</td>\n",
       "      <td>FEMALE</td>\n",
       "    </tr>\n",
       "    <tr>\n",
       "      <th>4</th>\n",
       "      <td>36.7</td>\n",
       "      <td>19.3</td>\n",
       "      <td>193.0</td>\n",
       "      <td>3450.0</td>\n",
       "      <td>FEMALE</td>\n",
       "    </tr>\n",
       "    <tr>\n",
       "      <th>5</th>\n",
       "      <td>39.3</td>\n",
       "      <td>20.6</td>\n",
       "      <td>190.0</td>\n",
       "      <td>3650.0</td>\n",
       "      <td>MALE</td>\n",
       "    </tr>\n",
       "    <tr>\n",
       "      <th>...</th>\n",
       "      <td>...</td>\n",
       "      <td>...</td>\n",
       "      <td>...</td>\n",
       "      <td>...</td>\n",
       "      <td>...</td>\n",
       "    </tr>\n",
       "    <tr>\n",
       "      <th>338</th>\n",
       "      <td>47.2</td>\n",
       "      <td>13.7</td>\n",
       "      <td>214.0</td>\n",
       "      <td>4925.0</td>\n",
       "      <td>FEMALE</td>\n",
       "    </tr>\n",
       "    <tr>\n",
       "      <th>340</th>\n",
       "      <td>46.8</td>\n",
       "      <td>14.3</td>\n",
       "      <td>215.0</td>\n",
       "      <td>4850.0</td>\n",
       "      <td>FEMALE</td>\n",
       "    </tr>\n",
       "    <tr>\n",
       "      <th>341</th>\n",
       "      <td>50.4</td>\n",
       "      <td>15.7</td>\n",
       "      <td>222.0</td>\n",
       "      <td>5750.0</td>\n",
       "      <td>MALE</td>\n",
       "    </tr>\n",
       "    <tr>\n",
       "      <th>342</th>\n",
       "      <td>45.2</td>\n",
       "      <td>14.8</td>\n",
       "      <td>212.0</td>\n",
       "      <td>5200.0</td>\n",
       "      <td>FEMALE</td>\n",
       "    </tr>\n",
       "    <tr>\n",
       "      <th>343</th>\n",
       "      <td>49.9</td>\n",
       "      <td>16.1</td>\n",
       "      <td>213.0</td>\n",
       "      <td>5400.0</td>\n",
       "      <td>MALE</td>\n",
       "    </tr>\n",
       "  </tbody>\n",
       "</table>\n",
       "<p>335 rows × 5 columns</p>\n",
       "</div>"
      ],
      "text/plain": [
       "     culmen_length_mm  culmen_depth_mm  flipper_length_mm  body_mass_g     sex\n",
       "0                39.1             18.7              181.0       3750.0    MALE\n",
       "1                39.5             17.4              186.0       3800.0  FEMALE\n",
       "2                40.3             18.0              195.0       3250.0  FEMALE\n",
       "4                36.7             19.3              193.0       3450.0  FEMALE\n",
       "5                39.3             20.6              190.0       3650.0    MALE\n",
       "..                ...              ...                ...          ...     ...\n",
       "338              47.2             13.7              214.0       4925.0  FEMALE\n",
       "340              46.8             14.3              215.0       4850.0  FEMALE\n",
       "341              50.4             15.7              222.0       5750.0    MALE\n",
       "342              45.2             14.8              212.0       5200.0  FEMALE\n",
       "343              49.9             16.1              213.0       5400.0    MALE\n",
       "\n",
       "[335 rows x 5 columns]"
      ]
     },
     "execution_count": 106,
     "metadata": {},
     "output_type": "execute_result"
    }
   ],
   "source": [
    "datos_1= datos.dropna()\n",
    "datos_1"
   ]
  },
  {
   "cell_type": "code",
   "execution_count": 107,
   "id": "aff0aec1",
   "metadata": {},
   "outputs": [
    {
     "data": {
      "application/vnd.microsoft.datawrangler.viewer.v0+json": {
       "columns": [
        {
         "name": "index",
         "rawType": "object",
         "type": "string"
        },
        {
         "name": "culmen_length_mm",
         "rawType": "float64",
         "type": "float"
        },
        {
         "name": "culmen_depth_mm",
         "rawType": "float64",
         "type": "float"
        },
        {
         "name": "flipper_length_mm",
         "rawType": "float64",
         "type": "float"
        },
        {
         "name": "body_mass_g",
         "rawType": "float64",
         "type": "float"
        }
       ],
       "conversionMethod": "pd.DataFrame",
       "ref": "3235e7fb-8fac-432a-becb-b2f6bc3d1073",
       "rows": [
        [
         "count",
         "335.0",
         "335.0",
         "335.0",
         "335.0"
        ],
        [
         "mean",
         "43.98835820895522",
         "17.169552238805966",
         "214.355223880597",
         "4209.179104477612"
        ],
        [
         "std",
         "5.453429563406747",
         "1.9719662767183503",
         "263.2535077949428",
         "803.633494929652"
        ],
        [
         "min",
         "32.1",
         "13.1",
         "-132.0",
         "2700.0"
        ],
        [
         "25%",
         "39.5",
         "15.6",
         "190.0",
         "3550.0"
        ],
        [
         "50%",
         "44.5",
         "17.3",
         "197.0",
         "4050.0"
        ],
        [
         "75%",
         "48.55",
         "18.7",
         "213.0",
         "4787.5"
        ],
        [
         "max",
         "59.6",
         "21.5",
         "5000.0",
         "6300.0"
        ]
       ],
       "shape": {
        "columns": 4,
        "rows": 8
       }
      },
      "text/html": [
       "<div>\n",
       "<style scoped>\n",
       "    .dataframe tbody tr th:only-of-type {\n",
       "        vertical-align: middle;\n",
       "    }\n",
       "\n",
       "    .dataframe tbody tr th {\n",
       "        vertical-align: top;\n",
       "    }\n",
       "\n",
       "    .dataframe thead th {\n",
       "        text-align: right;\n",
       "    }\n",
       "</style>\n",
       "<table border=\"1\" class=\"dataframe\">\n",
       "  <thead>\n",
       "    <tr style=\"text-align: right;\">\n",
       "      <th></th>\n",
       "      <th>culmen_length_mm</th>\n",
       "      <th>culmen_depth_mm</th>\n",
       "      <th>flipper_length_mm</th>\n",
       "      <th>body_mass_g</th>\n",
       "    </tr>\n",
       "  </thead>\n",
       "  <tbody>\n",
       "    <tr>\n",
       "      <th>count</th>\n",
       "      <td>335.000000</td>\n",
       "      <td>335.000000</td>\n",
       "      <td>335.000000</td>\n",
       "      <td>335.000000</td>\n",
       "    </tr>\n",
       "    <tr>\n",
       "      <th>mean</th>\n",
       "      <td>43.988358</td>\n",
       "      <td>17.169552</td>\n",
       "      <td>214.355224</td>\n",
       "      <td>4209.179104</td>\n",
       "    </tr>\n",
       "    <tr>\n",
       "      <th>std</th>\n",
       "      <td>5.453430</td>\n",
       "      <td>1.971966</td>\n",
       "      <td>263.253508</td>\n",
       "      <td>803.633495</td>\n",
       "    </tr>\n",
       "    <tr>\n",
       "      <th>min</th>\n",
       "      <td>32.100000</td>\n",
       "      <td>13.100000</td>\n",
       "      <td>-132.000000</td>\n",
       "      <td>2700.000000</td>\n",
       "    </tr>\n",
       "    <tr>\n",
       "      <th>25%</th>\n",
       "      <td>39.500000</td>\n",
       "      <td>15.600000</td>\n",
       "      <td>190.000000</td>\n",
       "      <td>3550.000000</td>\n",
       "    </tr>\n",
       "    <tr>\n",
       "      <th>50%</th>\n",
       "      <td>44.500000</td>\n",
       "      <td>17.300000</td>\n",
       "      <td>197.000000</td>\n",
       "      <td>4050.000000</td>\n",
       "    </tr>\n",
       "    <tr>\n",
       "      <th>75%</th>\n",
       "      <td>48.550000</td>\n",
       "      <td>18.700000</td>\n",
       "      <td>213.000000</td>\n",
       "      <td>4787.500000</td>\n",
       "    </tr>\n",
       "    <tr>\n",
       "      <th>max</th>\n",
       "      <td>59.600000</td>\n",
       "      <td>21.500000</td>\n",
       "      <td>5000.000000</td>\n",
       "      <td>6300.000000</td>\n",
       "    </tr>\n",
       "  </tbody>\n",
       "</table>\n",
       "</div>"
      ],
      "text/plain": [
       "       culmen_length_mm  culmen_depth_mm  flipper_length_mm  body_mass_g\n",
       "count        335.000000       335.000000         335.000000   335.000000\n",
       "mean          43.988358        17.169552         214.355224  4209.179104\n",
       "std            5.453430         1.971966         263.253508   803.633495\n",
       "min           32.100000        13.100000        -132.000000  2700.000000\n",
       "25%           39.500000        15.600000         190.000000  3550.000000\n",
       "50%           44.500000        17.300000         197.000000  4050.000000\n",
       "75%           48.550000        18.700000         213.000000  4787.500000\n",
       "max           59.600000        21.500000        5000.000000  6300.000000"
      ]
     },
     "execution_count": 107,
     "metadata": {},
     "output_type": "execute_result"
    }
   ],
   "source": [
    "datos_1.describe()"
   ]
  },
  {
   "cell_type": "code",
   "execution_count": 108,
   "id": "401b90fc",
   "metadata": {},
   "outputs": [
    {
     "data": {
      "image/png": "[encoded data removed]",
      "text/plain": [
       "<Figure size 750x750 with 1 Axes>"
      ]
     },
     "metadata": {},
     "output_type": "display_data"
    }
   ],
   "source": [
    "datos_1.boxplot()\n",
    "plt.xticks(rotation=45)\n",
    "plt.show()"
   ]
  },
  {
   "cell_type": "code",
   "execution_count": 109,
   "id": "365b3dcb",
   "metadata": {},
   "outputs": [
    {
     "data": {
      "application/vnd.microsoft.datawrangler.viewer.v0+json": {
       "columns": [
        {
         "name": "index",
         "rawType": "int64",
         "type": "integer"
        },
        {
         "name": "culmen_length_mm",
         "rawType": "float64",
         "type": "float"
        },
        {
         "name": "culmen_depth_mm",
         "rawType": "float64",
         "type": "float"
        },
        {
         "name": "flipper_length_mm",
         "rawType": "float64",
         "type": "float"
        },
        {
         "name": "body_mass_g",
         "rawType": "float64",
         "type": "float"
        },
        {
         "name": "sex_FEMALE",
         "rawType": "bool",
         "type": "boolean"
        },
        {
         "name": "sex_MALE",
         "rawType": "bool",
         "type": "boolean"
        }
       ],
       "conversionMethod": "pd.DataFrame",
       "ref": "6f518fb2-978e-44b5-9c95-81a463ad90c2",
       "rows": [
        [
         "0",
         "39.1",
         "18.7",
         "181.0",
         "3750.0",
         "False",
         "True"
        ],
        [
         "1",
         "39.5",
         "17.4",
         "186.0",
         "3800.0",
         "True",
         "False"
        ],
        [
         "2",
         "40.3",
         "18.0",
         "195.0",
         "3250.0",
         "True",
         "False"
        ],
        [
         "4",
         "36.7",
         "19.3",
         "193.0",
         "3450.0",
         "True",
         "False"
        ],
        [
         "5",
         "39.3",
         "20.6",
         "190.0",
         "3650.0",
         "False",
         "True"
        ],
        [
         "6",
         "38.9",
         "17.8",
         "181.0",
         "3625.0",
         "True",
         "False"
        ],
        [
         "7",
         "39.2",
         "19.6",
         "195.0",
         "4675.0",
         "False",
         "True"
        ],
        [
         "9",
         "42.0",
         "20.2",
         "5000.0",
         "4250.0",
         "False",
         "True"
        ],
        [
         "12",
         "41.1",
         "17.6",
         "182.0",
         "3200.0",
         "True",
         "False"
        ],
        [
         "13",
         "38.6",
         "21.2",
         "191.0",
         "3800.0",
         "False",
         "True"
        ],
        [
         "14",
         "34.6",
         "21.1",
         "-132.0",
         "4400.0",
         "False",
         "True"
        ],
        [
         "15",
         "36.6",
         "17.8",
         "185.0",
         "3700.0",
         "True",
         "False"
        ],
        [
         "16",
         "38.7",
         "19.0",
         "195.0",
         "3450.0",
         "True",
         "False"
        ],
        [
         "17",
         "42.5",
         "20.7",
         "197.0",
         "4500.0",
         "False",
         "True"
        ],
        [
         "18",
         "34.4",
         "18.4",
         "184.0",
         "3325.0",
         "True",
         "False"
        ],
        [
         "19",
         "46.0",
         "21.5",
         "194.0",
         "4200.0",
         "False",
         "True"
        ],
        [
         "20",
         "37.8",
         "18.3",
         "174.0",
         "3400.0",
         "True",
         "False"
        ],
        [
         "21",
         "37.7",
         "18.7",
         "180.0",
         "3600.0",
         "False",
         "True"
        ],
        [
         "22",
         "35.9",
         "19.2",
         "189.0",
         "3800.0",
         "True",
         "False"
        ],
        [
         "23",
         "38.2",
         "18.1",
         "185.0",
         "3950.0",
         "False",
         "True"
        ],
        [
         "24",
         "38.8",
         "17.2",
         "180.0",
         "3800.0",
         "False",
         "True"
        ],
        [
         "25",
         "35.3",
         "18.9",
         "187.0",
         "3800.0",
         "True",
         "False"
        ],
        [
         "26",
         "40.6",
         "18.6",
         "183.0",
         "3550.0",
         "False",
         "True"
        ],
        [
         "27",
         "40.5",
         "17.9",
         "187.0",
         "3200.0",
         "True",
         "False"
        ],
        [
         "28",
         "37.9",
         "18.6",
         "172.0",
         "3150.0",
         "True",
         "False"
        ],
        [
         "29",
         "40.5",
         "18.9",
         "180.0",
         "3950.0",
         "False",
         "True"
        ],
        [
         "30",
         "39.5",
         "16.7",
         "178.0",
         "3250.0",
         "True",
         "False"
        ],
        [
         "31",
         "37.2",
         "18.1",
         "178.0",
         "3900.0",
         "False",
         "True"
        ],
        [
         "32",
         "39.5",
         "17.8",
         "188.0",
         "3300.0",
         "True",
         "False"
        ],
        [
         "33",
         "40.9",
         "18.9",
         "184.0",
         "3900.0",
         "False",
         "True"
        ],
        [
         "34",
         "36.4",
         "17.0",
         "195.0",
         "3325.0",
         "True",
         "False"
        ],
        [
         "35",
         "39.2",
         "21.1",
         "196.0",
         "4150.0",
         "False",
         "True"
        ],
        [
         "36",
         "38.8",
         "20.0",
         "190.0",
         "3950.0",
         "False",
         "True"
        ],
        [
         "37",
         "42.2",
         "18.5",
         "180.0",
         "3550.0",
         "True",
         "False"
        ],
        [
         "38",
         "37.6",
         "19.3",
         "181.0",
         "3300.0",
         "True",
         "False"
        ],
        [
         "39",
         "39.8",
         "19.1",
         "184.0",
         "4650.0",
         "False",
         "True"
        ],
        [
         "40",
         "36.5",
         "18.0",
         "182.0",
         "3150.0",
         "True",
         "False"
        ],
        [
         "41",
         "40.8",
         "18.4",
         "195.0",
         "3900.0",
         "False",
         "True"
        ],
        [
         "42",
         "36.0",
         "18.5",
         "186.0",
         "3100.0",
         "True",
         "False"
        ],
        [
         "43",
         "44.1",
         "19.7",
         "196.0",
         "4400.0",
         "False",
         "True"
        ],
        [
         "44",
         "37.0",
         "16.9",
         "185.0",
         "3000.0",
         "True",
         "False"
        ],
        [
         "45",
         "39.6",
         "18.8",
         "190.0",
         "4600.0",
         "False",
         "True"
        ],
        [
         "46",
         "41.1",
         "19.0",
         "182.0",
         "3425.0",
         "False",
         "True"
        ],
        [
         "48",
         "36.0",
         "17.9",
         "190.0",
         "3450.0",
         "True",
         "False"
        ],
        [
         "49",
         "42.3",
         "21.2",
         "191.0",
         "4150.0",
         "False",
         "True"
        ],
        [
         "50",
         "39.6",
         "17.7",
         "186.0",
         "3500.0",
         "True",
         "False"
        ],
        [
         "51",
         "40.1",
         "18.9",
         "188.0",
         "4300.0",
         "False",
         "True"
        ],
        [
         "52",
         "35.0",
         "17.9",
         "190.0",
         "3450.0",
         "True",
         "False"
        ],
        [
         "53",
         "42.0",
         "19.5",
         "200.0",
         "4050.0",
         "False",
         "True"
        ],
        [
         "54",
         "34.5",
         "18.1",
         "187.0",
         "2900.0",
         "True",
         "False"
        ]
       ],
       "shape": {
        "columns": 6,
        "rows": 335
       }
      },
      "text/html": [
       "<div>\n",
       "<style scoped>\n",
       "    .dataframe tbody tr th:only-of-type {\n",
       "        vertical-align: middle;\n",
       "    }\n",
       "\n",
       "    .dataframe tbody tr th {\n",
       "        vertical-align: top;\n",
       "    }\n",
       "\n",
       "    .dataframe thead th {\n",
       "        text-align: right;\n",
       "    }\n",
       "</style>\n",
       "<table border=\"1\" class=\"dataframe\">\n",
       "  <thead>\n",
       "    <tr style=\"text-align: right;\">\n",
       "      <th></th>\n",
       "      <th>culmen_length_mm</th>\n",
       "      <th>culmen_depth_mm</th>\n",
       "      <th>flipper_length_mm</th>\n",
       "      <th>body_mass_g</th>\n",
       "      <th>sex_FEMALE</th>\n",
       "      <th>sex_MALE</th>\n",
       "    </tr>\n",
       "  </thead>\n",
       "  <tbody>\n",
       "    <tr>\n",
       "      <th>0</th>\n",
       "      <td>39.1</td>\n",
       "      <td>18.7</td>\n",
       "      <td>181.0</td>\n",
       "      <td>3750.0</td>\n",
       "      <td>False</td>\n",
       "      <td>True</td>\n",
       "    </tr>\n",
       "    <tr>\n",
       "      <th>1</th>\n",
       "      <td>39.5</td>\n",
       "      <td>17.4</td>\n",
       "      <td>186.0</td>\n",
       "      <td>3800.0</td>\n",
       "      <td>True</td>\n",
       "      <td>False</td>\n",
       "    </tr>\n",
       "    <tr>\n",
       "      <th>2</th>\n",
       "      <td>40.3</td>\n",
       "      <td>18.0</td>\n",
       "      <td>195.0</td>\n",
       "      <td>3250.0</td>\n",
       "      <td>True</td>\n",
       "      <td>False</td>\n",
       "    </tr>\n",
       "    <tr>\n",
       "      <th>4</th>\n",
       "      <td>36.7</td>\n",
       "      <td>19.3</td>\n",
       "      <td>193.0</td>\n",
       "      <td>3450.0</td>\n",
       "      <td>True</td>\n",
       "      <td>False</td>\n",
       "    </tr>\n",
       "    <tr>\n",
       "      <th>5</th>\n",
       "      <td>39.3</td>\n",
       "      <td>20.6</td>\n",
       "      <td>190.0</td>\n",
       "      <td>3650.0</td>\n",
       "      <td>False</td>\n",
       "      <td>True</td>\n",
       "    </tr>\n",
       "    <tr>\n",
       "      <th>...</th>\n",
       "      <td>...</td>\n",
       "      <td>...</td>\n",
       "      <td>...</td>\n",
       "      <td>...</td>\n",
       "      <td>...</td>\n",
       "      <td>...</td>\n",
       "    </tr>\n",
       "    <tr>\n",
       "      <th>338</th>\n",
       "      <td>47.2</td>\n",
       "      <td>13.7</td>\n",
       "      <td>214.0</td>\n",
       "      <td>4925.0</td>\n",
       "      <td>True</td>\n",
       "      <td>False</td>\n",
       "    </tr>\n",
       "    <tr>\n",
       "      <th>340</th>\n",
       "      <td>46.8</td>\n",
       "      <td>14.3</td>\n",
       "      <td>215.0</td>\n",
       "      <td>4850.0</td>\n",
       "      <td>True</td>\n",
       "      <td>False</td>\n",
       "    </tr>\n",
       "    <tr>\n",
       "      <th>341</th>\n",
       "      <td>50.4</td>\n",
       "      <td>15.7</td>\n",
       "      <td>222.0</td>\n",
       "      <td>5750.0</td>\n",
       "      <td>False</td>\n",
       "      <td>True</td>\n",
       "    </tr>\n",
       "    <tr>\n",
       "      <th>342</th>\n",
       "      <td>45.2</td>\n",
       "      <td>14.8</td>\n",
       "      <td>212.0</td>\n",
       "      <td>5200.0</td>\n",
       "      <td>True</td>\n",
       "      <td>False</td>\n",
       "    </tr>\n",
       "    <tr>\n",
       "      <th>343</th>\n",
       "      <td>49.9</td>\n",
       "      <td>16.1</td>\n",
       "      <td>213.0</td>\n",
       "      <td>5400.0</td>\n",
       "      <td>False</td>\n",
       "      <td>True</td>\n",
       "    </tr>\n",
       "  </tbody>\n",
       "</table>\n",
       "<p>335 rows × 6 columns</p>\n",
       "</div>"
      ],
      "text/plain": [
       "     culmen_length_mm  culmen_depth_mm  flipper_length_mm  body_mass_g  \\\n",
       "0                39.1             18.7              181.0       3750.0   \n",
       "1                39.5             17.4              186.0       3800.0   \n",
       "2                40.3             18.0              195.0       3250.0   \n",
       "4                36.7             19.3              193.0       3450.0   \n",
       "5                39.3             20.6              190.0       3650.0   \n",
       "..                ...              ...                ...          ...   \n",
       "338              47.2             13.7              214.0       4925.0   \n",
       "340              46.8             14.3              215.0       4850.0   \n",
       "341              50.4             15.7              222.0       5750.0   \n",
       "342              45.2             14.8              212.0       5200.0   \n",
       "343              49.9             16.1              213.0       5400.0   \n",
       "\n",
       "     sex_FEMALE  sex_MALE  \n",
       "0         False      True  \n",
       "1          True     False  \n",
       "2          True     False  \n",
       "4          True     False  \n",
       "5         False      True  \n",
       "..          ...       ...  \n",
       "338        True     False  \n",
       "340        True     False  \n",
       "341       False      True  \n",
       "342        True     False  \n",
       "343       False      True  \n",
       "\n",
       "[335 rows x 6 columns]"
      ]
     },
     "execution_count": 109,
     "metadata": {},
     "output_type": "execute_result"
    }
   ],
   "source": [
    "datos_2= pd.get_dummies(datos_1).drop('sex_.',axis=1)\n",
    "datos_2"
   ]
  },
  {
   "cell_type": "code",
   "execution_count": 110,
   "id": "02671a90",
   "metadata": {},
   "outputs": [
    {
     "data": {
      "text/plain": [
       "9"
      ]
     },
     "execution_count": 110,
     "metadata": {},
     "output_type": "execute_result"
    }
   ],
   "source": [
    "\n",
    "indice_max = datos_2['flipper_length_mm'].idxmax()\n",
    "\n",
    "# Eliminar la fila con el valor máximo\n",
    "datos_2.drop(indice_max,inplace=True)\n",
    "indice_max"
   ]
  },
  {
   "cell_type": "code",
   "execution_count": null,
   "id": "ba49a206",
   "metadata": {},
   "outputs": [],
   "source": [
    "datos_2"
   ]
  },
  {
   "cell_type": "code",
   "execution_count": 112,
   "id": "a30592ce",
   "metadata": {},
   "outputs": [
    {
     "data": {
      "text/plain": [
       "14"
      ]
     },
     "execution_count": 112,
     "metadata": {},
     "output_type": "execute_result"
    }
   ],
   "source": [
    "indice_min = datos_2['flipper_length_mm'].idxmin()\n",
    "datos_2.drop(indice_min,inplace=True)\n",
    "indice_min"
   ]
  },
  {
   "cell_type": "code",
   "execution_count": 114,
   "id": "14ac0063",
   "metadata": {},
   "outputs": [
    {
     "data": {
      "application/vnd.microsoft.datawrangler.viewer.v0+json": {
       "columns": [
        {
         "name": "index",
         "rawType": "object",
         "type": "string"
        },
        {
         "name": "culmen_length_mm",
         "rawType": "float64",
         "type": "float"
        },
        {
         "name": "culmen_depth_mm",
         "rawType": "float64",
         "type": "float"
        },
        {
         "name": "flipper_length_mm",
         "rawType": "float64",
         "type": "float"
        },
        {
         "name": "body_mass_g",
         "rawType": "float64",
         "type": "float"
        }
       ],
       "conversionMethod": "pd.DataFrame",
       "ref": "e6f137bd-da20-4953-b72a-fc3992d4ac16",
       "rows": [
        [
         "count",
         "333.0",
         "333.0",
         "333.0",
         "333.0"
        ],
        [
         "mean",
         "44.02252252252252",
         "17.14864864864865",
         "201.02402402402402",
         "4208.483483483484"
        ],
        [
         "std",
         "5.4443075945412165",
         "1.9589398810340504",
         "14.042299245344637",
         "805.9789922954346"
        ],
        [
         "min",
         "32.1",
         "13.1",
         "172.0",
         "2700.0"
        ],
        [
         "25%",
         "39.5",
         "15.6",
         "190.0",
         "3550.0"
        ],
        [
         "50%",
         "44.5",
         "17.3",
         "197.0",
         "4050.0"
        ],
        [
         "75%",
         "48.6",
         "18.7",
         "213.0",
         "4800.0"
        ],
        [
         "max",
         "59.6",
         "21.5",
         "231.0",
         "6300.0"
        ]
       ],
       "shape": {
        "columns": 4,
        "rows": 8
       }
      },
      "text/html": [
       "<div>\n",
       "<style scoped>\n",
       "    .dataframe tbody tr th:only-of-type {\n",
       "        vertical-align: middle;\n",
       "    }\n",
       "\n",
       "    .dataframe tbody tr th {\n",
       "        vertical-align: top;\n",
       "    }\n",
       "\n",
       "    .dataframe thead th {\n",
       "        text-align: right;\n",
       "    }\n",
       "</style>\n",
       "<table border=\"1\" class=\"dataframe\">\n",
       "  <thead>\n",
       "    <tr style=\"text-align: right;\">\n",
       "      <th></th>\n",
       "      <th>culmen_length_mm</th>\n",
       "      <th>culmen_depth_mm</th>\n",
       "      <th>flipper_length_mm</th>\n",
       "      <th>body_mass_g</th>\n",
       "    </tr>\n",
       "  </thead>\n",
       "  <tbody>\n",
       "    <tr>\n",
       "      <th>count</th>\n",
       "      <td>333.000000</td>\n",
       "      <td>333.000000</td>\n",
       "      <td>333.000000</td>\n",
       "      <td>333.000000</td>\n",
       "    </tr>\n",
       "    <tr>\n",
       "      <th>mean</th>\n",
       "      <td>44.022523</td>\n",
       "      <td>17.148649</td>\n",
       "      <td>201.024024</td>\n",
       "      <td>4208.483483</td>\n",
       "    </tr>\n",
       "    <tr>\n",
       "      <th>std</th>\n",
       "      <td>5.444308</td>\n",
       "      <td>1.958940</td>\n",
       "      <td>14.042299</td>\n",
       "      <td>805.978992</td>\n",
       "    </tr>\n",
       "    <tr>\n",
       "      <th>min</th>\n",
       "      <td>32.100000</td>\n",
       "      <td>13.100000</td>\n",
       "      <td>172.000000</td>\n",
       "      <td>2700.000000</td>\n",
       "    </tr>\n",
       "    <tr>\n",
       "      <th>25%</th>\n",
       "      <td>39.500000</td>\n",
       "      <td>15.600000</td>\n",
       "      <td>190.000000</td>\n",
       "      <td>3550.000000</td>\n",
       "    </tr>\n",
       "    <tr>\n",
       "      <th>50%</th>\n",
       "      <td>44.500000</td>\n",
       "      <td>17.300000</td>\n",
       "      <td>197.000000</td>\n",
       "      <td>4050.000000</td>\n",
       "    </tr>\n",
       "    <tr>\n",
       "      <th>75%</th>\n",
       "      <td>48.600000</td>\n",
       "      <td>18.700000</td>\n",
       "      <td>213.000000</td>\n",
       "      <td>4800.000000</td>\n",
       "    </tr>\n",
       "    <tr>\n",
       "      <th>max</th>\n",
       "      <td>59.600000</td>\n",
       "      <td>21.500000</td>\n",
       "      <td>231.000000</td>\n",
       "      <td>6300.000000</td>\n",
       "    </tr>\n",
       "  </tbody>\n",
       "</table>\n",
       "</div>"
      ],
      "text/plain": [
       "       culmen_length_mm  culmen_depth_mm  flipper_length_mm  body_mass_g\n",
       "count        333.000000       333.000000         333.000000   333.000000\n",
       "mean          44.022523        17.148649         201.024024  4208.483483\n",
       "std            5.444308         1.958940          14.042299   805.978992\n",
       "min           32.100000        13.100000         172.000000  2700.000000\n",
       "25%           39.500000        15.600000         190.000000  3550.000000\n",
       "50%           44.500000        17.300000         197.000000  4050.000000\n",
       "75%           48.600000        18.700000         213.000000  4800.000000\n",
       "max           59.600000        21.500000         231.000000  6300.000000"
      ]
     },
     "execution_count": 114,
     "metadata": {},
     "output_type": "execute_result"
    }
   ],
   "source": [
    "datos_2.describe()"
   ]
  },
  {
   "cell_type": "code",
   "execution_count": 115,
   "id": "5e8c0337",
   "metadata": {},
   "outputs": [],
   "source": [
    "datos_final = datos_2.reset_index(drop=True)"
   ]
  },
  {
   "cell_type": "code",
   "execution_count": null,
   "id": "402abb1a",
   "metadata": {},
   "outputs": [],
   "source": [
    "datos_final"
   ]
  },
  {
   "cell_type": "code",
   "execution_count": 116,
   "id": "99deaea4",
   "metadata": {},
   "outputs": [
    {
     "data": {
      "application/vnd.microsoft.datawrangler.viewer.v0+json": {
       "columns": [
        {
         "name": "index",
         "rawType": "int64",
         "type": "integer"
        },
        {
         "name": "culmen_length_mm",
         "rawType": "float64",
         "type": "float"
        },
        {
         "name": "culmen_depth_mm",
         "rawType": "float64",
         "type": "float"
        },
        {
         "name": "flipper_length_mm",
         "rawType": "float64",
         "type": "float"
        },
        {
         "name": "body_mass_g",
         "rawType": "float64",
         "type": "float"
        },
        {
         "name": "sex_FEMALE",
         "rawType": "float64",
         "type": "float"
        },
        {
         "name": "sex_MALE",
         "rawType": "float64",
         "type": "float"
        }
       ],
       "conversionMethod": "pd.DataFrame",
       "ref": "96f6dddb-10c1-432f-bb22-e58961ee66a6",
       "rows": [
        [
         "0",
         "-0.9055201787244983",
         "0.7931259056180198",
         "-1.4281249574683395",
         "-0.5697089575326187",
         "-0.9910312089651149",
         "0.9970014925003394"
        ],
        [
         "1",
         "-0.8319383779643087",
         "0.12850297773950406",
         "-1.0715220699181316",
         "-0.5075792431529358",
         "1.009049958219026",
         "-1.003007525587691"
        ],
        [
         "2",
         "-0.6847747764439295",
         "0.43525202137574265",
         "-0.4296368723277574",
         "-1.1910061013294484",
         "1.009049958219026",
         "-1.003007525587691"
        ],
        [
         "3",
         "-1.3470109832856372",
         "1.0998749492542583",
         "-0.5722780273478405",
         "-0.9424872438107166",
         "1.009049958219026",
         "-1.003007525587691"
        ],
        [
         "4",
         "-0.8687292783444042",
         "1.764497877132774",
         "-0.7862397598779652",
         "-0.6939683862919847",
         "-0.9910312089651149",
         "0.9970014925003394"
        ],
        [
         "5",
         "-0.9423110791045938",
         "0.3330023401636637",
         "-1.4281249574683395",
         "-0.7250332434818262",
         "1.009049958219026",
         "-1.003007525587691"
        ],
        [
         "6",
         "-0.8871247285344506",
         "1.2532494710723776",
         "-0.4296368723277574",
         "0.5796907584915162",
         "-0.9910312089651149",
         "0.9970014925003394"
        ],
        [
         "7",
         "-0.5376111749235489",
         "0.2307526589515848",
         "-1.3568043799582978",
         "-1.2531358157091315",
         "1.009049958219026",
         "-1.003007525587691"
        ],
        [
         "8",
         "-0.9974974296747356",
         "2.0712469207690107",
         "-0.7149191823679236",
         "-0.5075792431529358",
         "-0.9910312089651149",
         "0.9970014925003394"
        ],
        [
         "9",
         "-1.365406433475685",
         "0.3330023401636637",
         "-1.1428426474281732",
         "-0.6318386719123017",
         "1.009049958219026",
         "-1.003007525587691"
        ],
        [
         "10",
         "-0.9791019794846879",
         "0.946500427436139",
         "-0.4296368723277574",
         "-0.9424872438107166",
         "1.009049958219026",
         "-1.003007525587691"
        ],
        [
         "11",
         "-0.2800748722628847",
         "1.8156227177388127",
         "-0.2869957173076742",
         "0.3622367581626258",
         "-0.9910312089651149",
         "0.9970014925003394"
        ],
        [
         "12",
         "-1.7701063376567299",
         "0.6397513837999005",
         "-1.2141632249382146",
         "-1.097811529759924",
         "1.009049958219026",
         "-1.003007525587691"
        ],
        [
         "13",
         "0.36376588438877666",
         "2.22462144258713",
         "-0.5009574498377989",
         "-0.010541528115472033",
         "-0.9910312089651149",
         "0.9970014925003394"
        ],
        [
         "14",
         "-1.1446610311951162",
         "0.588626543193862",
         "-1.9273690000386305",
         "-1.0046169581903994",
         "1.009049958219026",
         "-1.003007525587691"
        ],
        [
         "15",
         "-1.1630564813851627",
         "0.7931259056180198",
         "-1.499445534978381",
         "-0.7560981006716676",
         "-0.9910312089651149",
         "0.9970014925003394"
        ],
        [
         "16",
         "-1.4941745848060177",
         "1.048750108648218",
         "-0.8575603373880069",
         "-0.5075792431529358",
         "1.009049958219026",
         "-1.003007525587691"
        ],
        [
         "17",
         "-1.0710792304349253",
         "0.48637686198178304",
         "-1.1428426474281732",
         "-0.32119010001388687",
         "-0.9910312089651149",
         "0.9970014925003394"
        ],
        [
         "18",
         "-0.9607065292946415",
         "0.026253296527425155",
         "-1.499445534978381",
         "-0.5075792431529358",
         "-0.9910312089651149",
         "0.9970014925003394"
        ],
        [
         "19",
         "-1.6045472859463028",
         "0.8953755868300987",
         "-1.00020149240809",
         "-0.5075792431529358",
         "1.009049958219026",
         "-1.003007525587691"
        ],
        [
         "20",
         "-0.6295884258737863",
         "0.7420010650119813",
         "-1.2854838024482562",
         "-0.8182278150513506",
         "-0.9910312089651149",
         "0.9970014925003394"
        ],
        [
         "21",
         "-0.647983876063834",
         "0.38412718076970226",
         "-1.00020149240809",
         "-1.2531358157091315",
         "1.009049958219026",
         "-1.003007525587691"
        ],
        [
         "22",
         "-1.1262655810050684",
         "0.7420010650119813",
         "-2.0700101550587138",
         "-1.3152655300888143",
         "1.009049958219026",
         "-1.003007525587691"
        ],
        [
         "23",
         "-0.647983876063834",
         "0.8953755868300987",
         "-1.499445534978381",
         "-0.32119010001388687",
         "-0.9910312089651149",
         "0.9970014925003394"
        ],
        [
         "24",
         "-0.8319383779643087",
         "-0.22937090650277306",
         "-1.642086689998464",
         "-1.1910061013294484",
         "1.009049958219026",
         "-1.003007525587691"
        ],
        [
         "25",
         "-1.2550337323354",
         "0.48637686198178304",
         "-1.642086689998464",
         "-0.3833198143935698",
         "-0.9910312089651149",
         "0.9970014925003394"
        ],
        [
         "26",
         "-0.8319383779643087",
         "0.3330023401636637",
         "-0.9288809148980484",
         "-1.1288763869497656",
         "1.009049958219026",
         "-1.003007525587691"
        ],
        [
         "27",
         "-0.5744020753036444",
         "0.8953755868300987",
         "-1.2141632249382146",
         "-0.3833198143935698",
         "-0.9910312089651149",
         "0.9970014925003394"
        ],
        [
         "28",
         "-1.4021973338557805",
         "-0.07599638468465376",
         "-0.4296368723277574",
         "-1.097811529759924",
         "1.009049958219026",
         "-1.003007525587691"
        ],
        [
         "29",
         "-0.8871247285344506",
         "2.0201220801629725",
         "-0.35831629481771576",
         "-0.072671242495155",
         "-0.9910312089651149",
         "0.9970014925003394"
        ],
        [
         "30",
         "-0.9607065292946415",
         "1.4577488334965354",
         "-0.7862397598779652",
         "-0.32119010001388687",
         "-0.9910312089651149",
         "0.9970014925003394"
        ],
        [
         "31",
         "-0.33526122283302656",
         "0.6908762244059409",
         "-1.499445534978381",
         "-0.8182278150513506",
         "1.009049958219026",
         "-1.003007525587691"
        ],
        [
         "32",
         "-1.1814519315752103",
         "1.0998749492542583",
         "-1.4281249574683395",
         "-1.1288763869497656",
         "1.009049958219026",
         "-1.003007525587691"
        ],
        [
         "33",
         "-0.7767520273941668",
         "0.9976252680421794",
         "-1.2141632249382146",
         "0.5486259013016747",
         "-0.9910312089651149",
         "0.9970014925003394"
        ],
        [
         "34",
         "-1.3838018836657326",
         "0.43525202137574265",
         "-1.3568043799582978",
         "-1.3152655300888143",
         "1.009049958219026",
         "-1.003007525587691"
        ],
        [
         "35",
         "-0.5927975254936921",
         "0.6397513837999005",
         "-0.4296368723277574",
         "-0.3833198143935698",
         "-0.9910312089651149",
         "0.9970014925003394"
        ],
        [
         "36",
         "-1.47577913461597",
         "0.6908762244059409",
         "-1.0715220699181316",
         "-1.3773952444684974",
         "1.009049958219026",
         "-1.003007525587691"
        ],
        [
         "37",
         "0.014252330777875041",
         "1.304374311678416",
         "-0.35831629481771576",
         "0.23797732940325983",
         "-0.9910312089651149",
         "0.9970014925003394"
        ],
        [
         "38",
         "-1.2918246327154954",
         "-0.12712122529069414",
         "-1.1428426474281732",
         "-1.5016546732278633",
         "1.009049958219026",
         "-1.003007525587691"
        ],
        [
         "39",
         "-0.813542927774261",
         "0.8442507462240602",
         "-0.7862397598779652",
         "0.4864961869219917",
         "-0.9910312089651149",
         "0.9970014925003394"
        ],
        [
         "40",
         "-0.5376111749235489",
         "0.946500427436139",
         "-1.3568043799582978",
         "-0.973552101000558",
         "-0.9910312089651149",
         "0.9970014925003394"
        ],
        [
         "41",
         "-1.47577913461597",
         "0.38412718076970226",
         "-0.7862397598779652",
         "-0.9424872438107166",
         "1.009049958219026",
         "-1.003007525587691"
        ],
        [
         "42",
         "-0.31686577264298016",
         "2.0712469207690107",
         "-0.7149191823679236",
         "-0.072671242495155",
         "-0.9910312089651149",
         "0.9970014925003394"
        ],
        [
         "43",
         "-0.813542927774261",
         "0.28187749955762337",
         "-1.0715220699181316",
         "-0.8803575294310336",
         "1.009049958219026",
         "-1.003007525587691"
        ],
        [
         "44",
         "-0.7215656768240236",
         "0.8953755868300987",
         "-0.9288809148980484",
         "0.11371790064389391",
         "-0.9910312089651149",
         "0.9970014925003394"
        ],
        [
         "45",
         "-1.6597336365164448",
         "0.38412718076970226",
         "-0.7862397598779652",
         "-0.9424872438107166",
         "1.009049958219026",
         "-1.003007525587691"
        ],
        [
         "46",
         "-0.37205212321312203",
         "1.2021246304663373",
         "-0.07303398477754948",
         "-0.19693067125452093",
         "-0.9910312089651149",
         "0.9970014925003394"
        ],
        [
         "47",
         "-1.751710887466682",
         "0.48637686198178304",
         "-1.00020149240809",
         "-1.6259141019872292",
         "1.009049958219026",
         "-1.003007525587691"
        ],
        [
         "48",
         "-0.4824248243534071",
         "0.7420010650119813",
         "-0.7149191823679236",
         "-0.6318386719123017",
         "-0.9910312089651149",
         "0.9970014925003394"
        ],
        [
         "49",
         "-0.923915628914546",
         "0.17962781834554445",
         "-1.0715220699181316",
         "-0.8182278150513506",
         "1.009049958219026",
         "-1.003007525587691"
        ]
       ],
       "shape": {
        "columns": 6,
        "rows": 333
       }
      },
      "text/html": [
       "<div>\n",
       "<style scoped>\n",
       "    .dataframe tbody tr th:only-of-type {\n",
       "        vertical-align: middle;\n",
       "    }\n",
       "\n",
       "    .dataframe tbody tr th {\n",
       "        vertical-align: top;\n",
       "    }\n",
       "\n",
       "    .dataframe thead th {\n",
       "        text-align: right;\n",
       "    }\n",
       "</style>\n",
       "<table border=\"1\" class=\"dataframe\">\n",
       "  <thead>\n",
       "    <tr style=\"text-align: right;\">\n",
       "      <th></th>\n",
       "      <th>culmen_length_mm</th>\n",
       "      <th>culmen_depth_mm</th>\n",
       "      <th>flipper_length_mm</th>\n",
       "      <th>body_mass_g</th>\n",
       "      <th>sex_FEMALE</th>\n",
       "      <th>sex_MALE</th>\n",
       "    </tr>\n",
       "  </thead>\n",
       "  <tbody>\n",
       "    <tr>\n",
       "      <th>0</th>\n",
       "      <td>-0.905520</td>\n",
       "      <td>0.793126</td>\n",
       "      <td>-1.428125</td>\n",
       "      <td>-0.569709</td>\n",
       "      <td>-0.991031</td>\n",
       "      <td>0.997001</td>\n",
       "    </tr>\n",
       "    <tr>\n",
       "      <th>1</th>\n",
       "      <td>-0.831938</td>\n",
       "      <td>0.128503</td>\n",
       "      <td>-1.071522</td>\n",
       "      <td>-0.507579</td>\n",
       "      <td>1.009050</td>\n",
       "      <td>-1.003008</td>\n",
       "    </tr>\n",
       "    <tr>\n",
       "      <th>2</th>\n",
       "      <td>-0.684775</td>\n",
       "      <td>0.435252</td>\n",
       "      <td>-0.429637</td>\n",
       "      <td>-1.191006</td>\n",
       "      <td>1.009050</td>\n",
       "      <td>-1.003008</td>\n",
       "    </tr>\n",
       "    <tr>\n",
       "      <th>3</th>\n",
       "      <td>-1.347011</td>\n",
       "      <td>1.099875</td>\n",
       "      <td>-0.572278</td>\n",
       "      <td>-0.942487</td>\n",
       "      <td>1.009050</td>\n",
       "      <td>-1.003008</td>\n",
       "    </tr>\n",
       "    <tr>\n",
       "      <th>4</th>\n",
       "      <td>-0.868729</td>\n",
       "      <td>1.764498</td>\n",
       "      <td>-0.786240</td>\n",
       "      <td>-0.693968</td>\n",
       "      <td>-0.991031</td>\n",
       "      <td>0.997001</td>\n",
       "    </tr>\n",
       "    <tr>\n",
       "      <th>...</th>\n",
       "      <td>...</td>\n",
       "      <td>...</td>\n",
       "      <td>...</td>\n",
       "      <td>...</td>\n",
       "      <td>...</td>\n",
       "      <td>...</td>\n",
       "    </tr>\n",
       "    <tr>\n",
       "      <th>328</th>\n",
       "      <td>0.584511</td>\n",
       "      <td>-1.763116</td>\n",
       "      <td>0.925454</td>\n",
       "      <td>0.890339</td>\n",
       "      <td>1.009050</td>\n",
       "      <td>-1.003008</td>\n",
       "    </tr>\n",
       "    <tr>\n",
       "      <th>329</th>\n",
       "      <td>0.510929</td>\n",
       "      <td>-1.456367</td>\n",
       "      <td>0.996775</td>\n",
       "      <td>0.797145</td>\n",
       "      <td>1.009050</td>\n",
       "      <td>-1.003008</td>\n",
       "    </tr>\n",
       "    <tr>\n",
       "      <th>330</th>\n",
       "      <td>1.173166</td>\n",
       "      <td>-0.740619</td>\n",
       "      <td>1.496019</td>\n",
       "      <td>1.915480</td>\n",
       "      <td>-0.991031</td>\n",
       "      <td>0.997001</td>\n",
       "    </tr>\n",
       "    <tr>\n",
       "      <th>331</th>\n",
       "      <td>0.216602</td>\n",
       "      <td>-1.200743</td>\n",
       "      <td>0.782813</td>\n",
       "      <td>1.232053</td>\n",
       "      <td>1.009050</td>\n",
       "      <td>-1.003008</td>\n",
       "    </tr>\n",
       "    <tr>\n",
       "      <th>332</th>\n",
       "      <td>1.081188</td>\n",
       "      <td>-0.536120</td>\n",
       "      <td>0.854134</td>\n",
       "      <td>1.480572</td>\n",
       "      <td>-0.991031</td>\n",
       "      <td>0.997001</td>\n",
       "    </tr>\n",
       "  </tbody>\n",
       "</table>\n",
       "<p>333 rows × 6 columns</p>\n",
       "</div>"
      ],
      "text/plain": [
       "     culmen_length_mm  culmen_depth_mm  flipper_length_mm  body_mass_g  \\\n",
       "0           -0.905520         0.793126          -1.428125    -0.569709   \n",
       "1           -0.831938         0.128503          -1.071522    -0.507579   \n",
       "2           -0.684775         0.435252          -0.429637    -1.191006   \n",
       "3           -1.347011         1.099875          -0.572278    -0.942487   \n",
       "4           -0.868729         1.764498          -0.786240    -0.693968   \n",
       "..                ...              ...                ...          ...   \n",
       "328          0.584511        -1.763116           0.925454     0.890339   \n",
       "329          0.510929        -1.456367           0.996775     0.797145   \n",
       "330          1.173166        -0.740619           1.496019     1.915480   \n",
       "331          0.216602        -1.200743           0.782813     1.232053   \n",
       "332          1.081188        -0.536120           0.854134     1.480572   \n",
       "\n",
       "     sex_FEMALE  sex_MALE  \n",
       "0     -0.991031  0.997001  \n",
       "1      1.009050 -1.003008  \n",
       "2      1.009050 -1.003008  \n",
       "3      1.009050 -1.003008  \n",
       "4     -0.991031  0.997001  \n",
       "..          ...       ...  \n",
       "328    1.009050 -1.003008  \n",
       "329    1.009050 -1.003008  \n",
       "330   -0.991031  0.997001  \n",
       "331    1.009050 -1.003008  \n",
       "332   -0.991031  0.997001  \n",
       "\n",
       "[333 rows x 6 columns]"
      ]
     },
     "execution_count": 116,
     "metadata": {},
     "output_type": "execute_result"
    }
   ],
   "source": [
    "from sklearn.preprocessing import StandardScaler\n",
    "\n",
    "scaler = StandardScaler()\n",
    "X = scaler.fit_transform(datos_final)\n",
    "datos_escalados= pd.DataFrame(data=X,columns=datos_2.columns)\n",
    "datos_escalados"
   ]
  },
  {
   "cell_type": "code",
   "execution_count": 117,
   "id": "405009f2",
   "metadata": {},
   "outputs": [
    {
     "data": {
      "text/plain": [
       "array([[-7.29520694e-01, -2.09719199e+00, -6.44094949e-01,\n",
       "        -5.68975392e-01,  3.46761908e-01,  5.44980602e-03],\n",
       "       [-1.92930440e+00,  4.12149703e-01, -7.50700595e-02,\n",
       "         1.40372796e-01,  4.70330710e-01,  1.67029352e-03],\n",
       "       [-1.95352479e+00,  3.08485398e-01,  2.98653932e-01,\n",
       "         3.14095040e-01, -4.31657849e-01, -7.02807152e-03],\n",
       "       ...,\n",
       "       [ 3.08574341e+00,  3.99018042e-01, -2.50663312e-01,\n",
       "         9.80933259e-02,  2.33586550e-01, -8.87855664e-03],\n",
       "       [ 5.12526787e-01,  2.21849104e+00, -2.17359938e-01,\n",
       "         4.32690281e-01,  4.74068873e-01, -7.89440247e-03],\n",
       "       [ 2.48379253e+00, -1.31616130e-02, -9.65855066e-02,\n",
       "        -1.73183012e-01,  3.81382917e-01, -3.41432404e-03]])"
      ]
     },
     "execution_count": 117,
     "metadata": {},
     "output_type": "execute_result"
    }
   ],
   "source": [
    "from sklearn.decomposition import PCA\n",
    "\n",
    "pca = PCA(n_components=None)\n",
    "dfx_pca = pca.fit(datos_escalados)\n",
    "penguins_PCA = pca.fit_transform(datos_escalados)\n",
    "varianza= dfx_pca.explained_variance_ratio_\n",
    "\n",
    "penguins_PCA"
   ]
  },
  {
   "cell_type": "code",
   "execution_count": 118,
   "id": "59604819",
   "metadata": {},
   "outputs": [
    {
     "data": {
      "text/plain": [
       "array([[ 0.43467409, -0.15776641,  0.48020239,  0.50924062, -0.38595413,\n",
       "         0.38378023],\n",
       "       [ 0.09408742, -0.61211564,  0.30756805,  0.1860741 ,  0.49216838,\n",
       "        -0.49498546],\n",
       "       [ 0.86130767,  0.316695  , -0.0696824 , -0.28467284,  0.19244649,\n",
       "        -0.18687819],\n",
       "       [-0.20765188,  0.70719365,  0.40647707,  0.40027919,  0.25211016,\n",
       "        -0.26029072],\n",
       "       [ 0.1311858 ,  0.00194049, -0.71035108,  0.68174923,  0.08891383,\n",
       "        -0.07416321],\n",
       "       [ 0.00510559, -0.00136187, -0.01138655,  0.00252128, -0.70732513,\n",
       "        -0.7067724 ]])"
      ]
     },
     "execution_count": 118,
     "metadata": {},
     "output_type": "execute_result"
    }
   ],
   "source": [
    "pca.components_"
   ]
  },
  {
   "cell_type": "code",
   "execution_count": 119,
   "id": "1fb6e4fa",
   "metadata": {},
   "outputs": [
    {
     "data": {
      "text/plain": [
       "array([0.51973484, 0.86397525, 0.94989388, 0.98214815, 0.99900864,\n",
       "       1.        ])"
      ]
     },
     "execution_count": 119,
     "metadata": {},
     "output_type": "execute_result"
    }
   ],
   "source": [
    "varianza_acumulada=np.cumsum(varianza)\n",
    "varianza_acumulada"
   ]
  },
  {
   "cell_type": "code",
   "execution_count": 120,
   "id": "99028052",
   "metadata": {},
   "outputs": [
    {
     "data": {
      "image/png": "[encoded data removed]",
      "text/plain": [
       "<Figure size 640x480 with 1 Axes>"
      ]
     },
     "metadata": {},
     "output_type": "display_data"
    }
   ],
   "source": [
    "plt.plot(range(1, len(varianza_acumulada)+1), varianza_acumulada, marker='o')\n",
    "plt.axhline(y=0.90, color='red', linestyle='--', label='90% de varianza')\n",
    "plt.xlabel('Número de componentes')\n",
    "plt.ylabel('Varianza explicada acumulada')\n",
    "plt.title('Gráfico de codo para PCA')\n",
    "plt.grid(True)\n",
    "plt.legend()\n",
    "plt.show()"
   ]
  },
  {
   "cell_type": "code",
   "execution_count": 121,
   "id": "346dd7f8",
   "metadata": {},
   "outputs": [
    {
     "data": {
      "text/plain": [
       "array([ 0.43467409,  0.09408742,  0.86130767, -0.20765188,  0.1311858 ,\n",
       "        0.00510559])"
      ]
     },
     "execution_count": 121,
     "metadata": {},
     "output_type": "execute_result"
    }
   ],
   "source": [
    "pca.components_[:,0]"
   ]
  },
  {
   "cell_type": "code",
   "execution_count": 122,
   "id": "1f1f2e29",
   "metadata": {},
   "outputs": [
    {
     "data": {
      "image/png": "[encoded data removed]",
      "text/plain": [
       "<Figure size 800x600 with 1 Axes>"
      ]
     },
     "metadata": {},
     "output_type": "display_data"
    }
   ],
   "source": [
    "plt.figure(figsize=(8, 6))\n",
    "plt.scatter(penguins_PCA[:,0], penguins_PCA[:,1], alpha=0.7, edgecolor='k')\n",
    "plt.xlabel('Componente Principal 1')\n",
    "plt.ylabel('Componente Principal 2')\n",
    "plt.title('Proyección de los datos en los primeros dos componentes principales')\n",
    "plt.grid(True)\n",
    "plt.show()"
   ]
  },
  {
   "cell_type": "code",
   "execution_count": null,
   "id": "819305ff",
   "metadata": {},
   "outputs": [],
   "source": [
    "penguins_PCA"
   ]
  },
  {
   "cell_type": "code",
   "execution_count": 123,
   "id": "4182d4b7",
   "metadata": {
    "scrolled": true
   },
   "outputs": [
    {
     "data": {
      "application/vnd.microsoft.datawrangler.viewer.v0+json": {
       "columns": [
        {
         "name": "index",
         "rawType": "int64",
         "type": "integer"
        },
        {
         "name": "PC1",
         "rawType": "float64",
         "type": "float"
        },
        {
         "name": "PC2",
         "rawType": "float64",
         "type": "float"
        },
        {
         "name": "PC3",
         "rawType": "float64",
         "type": "float"
        },
        {
         "name": "PC4",
         "rawType": "float64",
         "type": "float"
        }
       ],
       "conversionMethod": "pd.DataFrame",
       "ref": "8e3409d6-2d37-4c88-8cc3-a505609b69e8",
       "rows": [
        [
         "0",
         "-0.729520694208945",
         "-2.097191992997722",
         "-0.644094949142382",
         "-0.5689753916605762"
        ],
        [
         "1",
         "-1.9293043950127302",
         "0.41214970314098087",
         "-0.07507005948798806",
         "0.14037279568345895"
        ],
        [
         "2",
         "-1.9535247906962634",
         "0.3084853980983803",
         "0.2986539316798615",
         "0.3140950403834757"
        ],
        [
         "3",
         "-2.288177609212712",
         "-0.15827772564724457",
         "-0.12205942825531327",
         "0.963123318821732"
        ],
        [
         "4",
         "-0.6218216488114595",
         "-2.514020490492322",
         "-0.3141328328027712",
         "0.32150615424747064"
        ],
        [
         "5",
         "-2.29152164686513",
         "0.1264455493779215",
         "-0.01861879827931772",
         "0.07591933683076926"
        ],
        [
         "6",
         "0.2706806763099288",
         "-1.8561334871647226",
         "-0.8793118927062066",
         "0.6185445253179102"
        ],
        [
         "7",
         "-2.33416048717937",
         "0.1507810669152914",
         "0.44293704029305847",
         "-0.2628259756980488"
        ],
        [
         "8",
         "-0.5970232880736825",
         "-2.657283716945776",
         "-0.3859256562334851",
         "0.6687739547387459"
        ],
        [
         "9",
         "-2.2909785248420778",
         "0.19172241824563938",
         "-0.4294431914200769",
         "0.3170404491038754"
        ],
        [
         "10",
         "-2.0355631274178867",
         "0.014092689395330147",
         "0.13631089861037354",
         "0.8362411927896024"
        ],
        [
         "11",
         "0.40358612714758024",
         "-2.1398458866413814",
         "-0.1263907286870656",
         "0.8611343192058538"
        ],
        [
         "12",
         "-2.7868263976563243",
         "-0.14276205239492315",
         "-0.5432488328605926",
         "0.4024987044905601"
        ],
        [
         "13",
         "0.32634198123077685",
         "-2.4647952637378348",
         "0.6787113244303052",
         "0.7804949477667633"
        ],
        [
         "14",
         "-2.8019204067816377",
         "-0.25463941410149704",
         "0.0024289515393903205",
         "-0.016129300943185758"
        ],
        [
         "15",
         "-0.9706302854667109",
         "-2.1780410436310302",
         "-0.8078832282914858",
         "-0.6190953687702476"
        ],
        [
         "16",
         "-2.2596004613434606",
         "-0.1476482621295155",
         "-0.3689308881071131",
         "1.015650858849287"
        ],
        [
         "17",
         "-0.4895410854181493",
         "-1.7910164830897481",
         "-0.9744638415497056",
         "-0.536090074464059"
        ],
        [
         "18",
         "-0.6351313725379653",
         "-1.6433448174201124",
         "-0.9472089498884773",
         "-1.103964231767604"
        ],
        [
         "19",
         "-2.351875891284091",
         "-0.10802186351176478",
         "-0.5026291092789956",
         "0.8721241103836512"
        ],
        [
         "20",
         "-0.6595738007351031",
         "-2.04230703314631",
         "-0.3618168037087962",
         "-0.7039248699871469"
        ],
        [
         "21",
         "-2.2350924274332065",
         "0.15619309519718977",
         "0.3715961865060488",
         "0.013509509570005039"
        ],
        [
         "22",
         "-3.044813222406198",
         "-0.4484670936246209",
         "0.16521882525249193",
         "-0.09381018040493322"
        ],
        [
         "23",
         "-0.5414003178864664",
         "-2.1112427021972877",
         "-0.455671771943724",
         "-0.4796562163496328"
        ],
        [
         "24",
         "-2.4948591279286414",
         "0.32855441654852563",
         "0.04590444227688084",
         "-0.6181963298636949"
        ],
        [
         "25",
         "-0.8408784988298209",
         "-1.9734365354082297",
         "-1.0804301029950838",
         "-0.7256920648306514"
        ],
        [
         "26",
         "-2.209460640288857",
         "0.21523699759864473",
         "0.1566207083980234",
         "0.09428148829603208"
        ],
        [
         "27",
         "-0.4040619416374899",
         "-2.0281365874932398",
         "-0.3944877149923396",
         "-0.4038441291925204"
        ],
        [
         "28",
         "-2.1372535009674745",
         "0.5712692001152699",
         "-0.5077073988392946",
         "0.13882140393411935"
        ],
        [
         "29",
         "-0.14826697460361388",
         "-2.424999948254545",
         "-0.45570722034756256",
         "0.9287352131461186"
        ],
        [
         "30",
         "-0.4235732381147398",
         "-2.265544120420491",
         "-0.5966192848473272",
         "0.272889817330955"
        ],
        [
         "31",
         "-2.165820054504638",
         "-0.0747759230967016",
         "0.6490745223974809",
         "0.13665640438643376"
        ],
        [
         "32",
         "-2.7221100457547975",
         "-0.44061406519191054",
         "0.133235243453469",
         "0.5062548200880483"
        ],
        [
         "33",
         "-0.033565177757565234",
         "-1.9363528375338732",
         "-0.8016909485969929",
         "0.08352302115726065"
        ],
        [
         "34",
         "-2.7658797649160163",
         "-0.06557282442490714",
         "-0.20344294330255241",
         "0.032638536352114465"
        ],
        [
         "35",
         "0.005002377270069036",
         "-1.6321005554735357",
         "-0.5459544395117495",
         "-0.26190811800231617"
        ],
        [
         "36",
         "-2.7408345304823767",
         "-0.15451530646582157",
         "-0.2039012613299043",
         "0.3236050860158993"
        ],
        [
         "37",
         "0.5146540997701264",
         "-1.8442676469588986",
         "0.005548809084608093",
         "0.3597364507647216"
        ],
        [
         "38",
         "-2.6293480164793235",
         "0.31844413708716557",
         "-0.2641724661101837",
         "-0.37180466011201974"
        ],
        [
         "39",
         "0.14849101667044168",
         "-1.7258766005140191",
         "-0.8940842674994053",
         "0.13176907813651467"
        ],
        [
         "40",
         "-0.7652025497418917",
         "-2.2096681468749324",
         "-0.16864577263102315",
         "-0.6695667270296246"
        ],
        [
         "41",
         "-2.333973770082152",
         "0.20191942070349184",
         "-0.4447327979790852",
         "0.3967194499528864"
        ],
        [
         "42",
         "-0.07969752593940767",
         "-2.512319722170797",
         "0.07650111913212554",
         "0.7015241330177281"
        ],
        [
         "43",
         "-2.1353395605428807",
         "0.2506331545149067",
         "0.09546687886830384",
         "0.0958030435971271"
        ],
        [
         "44",
         "-0.07792510598393156",
         "-1.8617532600953337",
         "-0.6826131448457462",
         "-0.05837075803259253"
        ],
        [
         "45",
         "-2.413934025318996",
         "0.18461161580858032",
         "-0.6031742221019643",
         "0.434917948358375"
        ],
        [
         "46",
         "0.2783895589753334",
         "-1.811206801268148",
         "-0.25563280505905467",
         "0.30951906774804255"
        ],
        [
         "47",
         "-2.9208193674876726",
         "-0.07960674881993167",
         "-0.4405505436335904",
         "0.16579543496881083"
        ],
        [
         "48",
         "-0.22670217841004248",
         "-1.8182911489783522",
         "-0.32788189972677",
         "-0.4279545368305726"
        ],
        [
         "49",
         "-2.135545174878695",
         "0.3143978314657489",
         "-0.049666580282313855",
         "0.07128104883219741"
        ]
       ],
       "shape": {
        "columns": 4,
        "rows": 333
       }
      },
      "text/html": [
       "<div>\n",
       "<style scoped>\n",
       "    .dataframe tbody tr th:only-of-type {\n",
       "        vertical-align: middle;\n",
       "    }\n",
       "\n",
       "    .dataframe tbody tr th {\n",
       "        vertical-align: top;\n",
       "    }\n",
       "\n",
       "    .dataframe thead th {\n",
       "        text-align: right;\n",
       "    }\n",
       "</style>\n",
       "<table border=\"1\" class=\"dataframe\">\n",
       "  <thead>\n",
       "    <tr style=\"text-align: right;\">\n",
       "      <th></th>\n",
       "      <th>PC1</th>\n",
       "      <th>PC2</th>\n",
       "      <th>PC3</th>\n",
       "      <th>PC4</th>\n",
       "    </tr>\n",
       "  </thead>\n",
       "  <tbody>\n",
       "    <tr>\n",
       "      <th>0</th>\n",
       "      <td>-0.729521</td>\n",
       "      <td>-2.097192</td>\n",
       "      <td>-0.644095</td>\n",
       "      <td>-0.568975</td>\n",
       "    </tr>\n",
       "    <tr>\n",
       "      <th>1</th>\n",
       "      <td>-1.929304</td>\n",
       "      <td>0.412150</td>\n",
       "      <td>-0.075070</td>\n",
       "      <td>0.140373</td>\n",
       "    </tr>\n",
       "    <tr>\n",
       "      <th>2</th>\n",
       "      <td>-1.953525</td>\n",
       "      <td>0.308485</td>\n",
       "      <td>0.298654</td>\n",
       "      <td>0.314095</td>\n",
       "    </tr>\n",
       "    <tr>\n",
       "      <th>3</th>\n",
       "      <td>-2.288178</td>\n",
       "      <td>-0.158278</td>\n",
       "      <td>-0.122059</td>\n",
       "      <td>0.963123</td>\n",
       "    </tr>\n",
       "    <tr>\n",
       "      <th>4</th>\n",
       "      <td>-0.621822</td>\n",
       "      <td>-2.514020</td>\n",
       "      <td>-0.314133</td>\n",
       "      <td>0.321506</td>\n",
       "    </tr>\n",
       "    <tr>\n",
       "      <th>...</th>\n",
       "      <td>...</td>\n",
       "      <td>...</td>\n",
       "      <td>...</td>\n",
       "      <td>...</td>\n",
       "    </tr>\n",
       "    <tr>\n",
       "      <th>328</th>\n",
       "      <td>0.655653</td>\n",
       "      <td>2.577632</td>\n",
       "      <td>0.008759</td>\n",
       "      <td>-0.120214</td>\n",
       "    </tr>\n",
       "    <tr>\n",
       "      <th>329</th>\n",
       "      <td>0.562064</td>\n",
       "      <td>2.387538</td>\n",
       "      <td>0.064089</td>\n",
       "      <td>0.103683</td>\n",
       "    </tr>\n",
       "    <tr>\n",
       "      <th>330</th>\n",
       "      <td>3.085743</td>\n",
       "      <td>0.399018</td>\n",
       "      <td>-0.250663</td>\n",
       "      <td>0.098093</td>\n",
       "    </tr>\n",
       "    <tr>\n",
       "      <th>331</th>\n",
       "      <td>0.512527</td>\n",
       "      <td>2.218491</td>\n",
       "      <td>-0.217360</td>\n",
       "      <td>0.432690</td>\n",
       "    </tr>\n",
       "    <tr>\n",
       "      <th>332</th>\n",
       "      <td>2.483793</td>\n",
       "      <td>-0.013162</td>\n",
       "      <td>-0.096586</td>\n",
       "      <td>-0.173183</td>\n",
       "    </tr>\n",
       "  </tbody>\n",
       "</table>\n",
       "<p>333 rows × 4 columns</p>\n",
       "</div>"
      ],
      "text/plain": [
       "          PC1       PC2       PC3       PC4\n",
       "0   -0.729521 -2.097192 -0.644095 -0.568975\n",
       "1   -1.929304  0.412150 -0.075070  0.140373\n",
       "2   -1.953525  0.308485  0.298654  0.314095\n",
       "3   -2.288178 -0.158278 -0.122059  0.963123\n",
       "4   -0.621822 -2.514020 -0.314133  0.321506\n",
       "..        ...       ...       ...       ...\n",
       "328  0.655653  2.577632  0.008759 -0.120214\n",
       "329  0.562064  2.387538  0.064089  0.103683\n",
       "330  3.085743  0.399018 -0.250663  0.098093\n",
       "331  0.512527  2.218491 -0.217360  0.432690\n",
       "332  2.483793 -0.013162 -0.096586 -0.173183\n",
       "\n",
       "[333 rows x 4 columns]"
      ]
     },
     "execution_count": 123,
     "metadata": {},
     "output_type": "execute_result"
    }
   ],
   "source": [
    "import plotly.express as px\n",
    "df_pca = pd.DataFrame(penguins_PCA[:, :4], columns=['PC1', 'PC2', 'PC3','PC4'])\n",
    "\n",
    "fig = px.scatter_3d(df_pca, x='PC1', y='PC2', z='PC3',\n",
    "                    opacity=0.7,\n",
    "                    title='PCA con 3 Componentes Principales')\n",
    "df_pca\n",
    "\n"
   ]
  },
  {
   "cell_type": "code",
   "execution_count": 124,
   "id": "c92961a6",
   "metadata": {},
   "outputs": [],
   "source": [
    "# Filtro\n",
    "from gtda.mapper.filter import Projection\n",
    "\n",
    "# Cobertura\n",
    "from gtda.mapper.cover import CubicalCover\n",
    "\n",
    "# Clustering\n",
    "from sklearn.cluster import DBSCAN\n",
    "# O si quieres el de giotto\n",
    "from gtda.mapper.cluster import FirstSimpleGap\n",
    "\n",
    "\n"
   ]
  },
  {
   "cell_type": "code",
   "execution_count": 125,
   "id": "3f068096",
   "metadata": {},
   "outputs": [
    {
     "data": {
      "application/vnd.microsoft.datawrangler.viewer.v0+json": {
       "columns": [
        {
         "name": "index",
         "rawType": "int64",
         "type": "integer"
        },
        {
         "name": "PC1",
         "rawType": "float64",
         "type": "float"
        },
        {
         "name": "PC2",
         "rawType": "float64",
         "type": "float"
        }
       ],
       "conversionMethod": "pd.DataFrame",
       "ref": "7853d481-fa73-4867-ad57-44c377069283",
       "rows": [
        [
         "0",
         "-0.729520694208945",
         "-2.097191992997722"
        ],
        [
         "1",
         "-1.9293043950127302",
         "0.41214970314098087"
        ],
        [
         "2",
         "-1.9535247906962634",
         "0.3084853980983803"
        ],
        [
         "3",
         "-2.288177609212712",
         "-0.15827772564724457"
        ],
        [
         "4",
         "-0.6218216488114595",
         "-2.514020490492322"
        ],
        [
         "5",
         "-2.29152164686513",
         "0.1264455493779215"
        ],
        [
         "6",
         "0.2706806763099288",
         "-1.8561334871647226"
        ],
        [
         "7",
         "-2.33416048717937",
         "0.1507810669152914"
        ],
        [
         "8",
         "-0.5970232880736825",
         "-2.657283716945776"
        ],
        [
         "9",
         "-2.2909785248420778",
         "0.19172241824563938"
        ],
        [
         "10",
         "-2.0355631274178867",
         "0.014092689395330147"
        ],
        [
         "11",
         "0.40358612714758024",
         "-2.1398458866413814"
        ],
        [
         "12",
         "-2.7868263976563243",
         "-0.14276205239492315"
        ],
        [
         "13",
         "0.32634198123077685",
         "-2.4647952637378348"
        ],
        [
         "14",
         "-2.8019204067816377",
         "-0.25463941410149704"
        ],
        [
         "15",
         "-0.9706302854667109",
         "-2.1780410436310302"
        ],
        [
         "16",
         "-2.2596004613434606",
         "-0.1476482621295155"
        ],
        [
         "17",
         "-0.4895410854181493",
         "-1.7910164830897481"
        ],
        [
         "18",
         "-0.6351313725379653",
         "-1.6433448174201124"
        ],
        [
         "19",
         "-2.351875891284091",
         "-0.10802186351176478"
        ],
        [
         "20",
         "-0.6595738007351031",
         "-2.04230703314631"
        ],
        [
         "21",
         "-2.2350924274332065",
         "0.15619309519718977"
        ],
        [
         "22",
         "-3.044813222406198",
         "-0.4484670936246209"
        ],
        [
         "23",
         "-0.5414003178864664",
         "-2.1112427021972877"
        ],
        [
         "24",
         "-2.4948591279286414",
         "0.32855441654852563"
        ],
        [
         "25",
         "-0.8408784988298209",
         "-1.9734365354082297"
        ],
        [
         "26",
         "-2.209460640288857",
         "0.21523699759864473"
        ],
        [
         "27",
         "-0.4040619416374899",
         "-2.0281365874932398"
        ],
        [
         "28",
         "-2.1372535009674745",
         "0.5712692001152699"
        ],
        [
         "29",
         "-0.14826697460361388",
         "-2.424999948254545"
        ],
        [
         "30",
         "-0.4235732381147398",
         "-2.265544120420491"
        ],
        [
         "31",
         "-2.165820054504638",
         "-0.0747759230967016"
        ],
        [
         "32",
         "-2.7221100457547975",
         "-0.44061406519191054"
        ],
        [
         "33",
         "-0.033565177757565234",
         "-1.9363528375338732"
        ],
        [
         "34",
         "-2.7658797649160163",
         "-0.06557282442490714"
        ],
        [
         "35",
         "0.005002377270069036",
         "-1.6321005554735357"
        ],
        [
         "36",
         "-2.7408345304823767",
         "-0.15451530646582157"
        ],
        [
         "37",
         "0.5146540997701264",
         "-1.8442676469588986"
        ],
        [
         "38",
         "-2.6293480164793235",
         "0.31844413708716557"
        ],
        [
         "39",
         "0.14849101667044168",
         "-1.7258766005140191"
        ],
        [
         "40",
         "-0.7652025497418917",
         "-2.2096681468749324"
        ],
        [
         "41",
         "-2.333973770082152",
         "0.20191942070349184"
        ],
        [
         "42",
         "-0.07969752593940767",
         "-2.512319722170797"
        ],
        [
         "43",
         "-2.1353395605428807",
         "0.2506331545149067"
        ],
        [
         "44",
         "-0.07792510598393156",
         "-1.8617532600953337"
        ],
        [
         "45",
         "-2.413934025318996",
         "0.18461161580858032"
        ],
        [
         "46",
         "0.2783895589753334",
         "-1.811206801268148"
        ],
        [
         "47",
         "-2.9208193674876726",
         "-0.07960674881993167"
        ],
        [
         "48",
         "-0.22670217841004248",
         "-1.8182911489783522"
        ],
        [
         "49",
         "-2.135545174878695",
         "0.3143978314657489"
        ]
       ],
       "shape": {
        "columns": 2,
        "rows": 333
       }
      },
      "text/html": [
       "<div>\n",
       "<style scoped>\n",
       "    .dataframe tbody tr th:only-of-type {\n",
       "        vertical-align: middle;\n",
       "    }\n",
       "\n",
       "    .dataframe tbody tr th {\n",
       "        vertical-align: top;\n",
       "    }\n",
       "\n",
       "    .dataframe thead th {\n",
       "        text-align: right;\n",
       "    }\n",
       "</style>\n",
       "<table border=\"1\" class=\"dataframe\">\n",
       "  <thead>\n",
       "    <tr style=\"text-align: right;\">\n",
       "      <th></th>\n",
       "      <th>PC1</th>\n",
       "      <th>PC2</th>\n",
       "    </tr>\n",
       "  </thead>\n",
       "  <tbody>\n",
       "    <tr>\n",
       "      <th>0</th>\n",
       "      <td>-0.729521</td>\n",
       "      <td>-2.097192</td>\n",
       "    </tr>\n",
       "    <tr>\n",
       "      <th>1</th>\n",
       "      <td>-1.929304</td>\n",
       "      <td>0.412150</td>\n",
       "    </tr>\n",
       "    <tr>\n",
       "      <th>2</th>\n",
       "      <td>-1.953525</td>\n",
       "      <td>0.308485</td>\n",
       "    </tr>\n",
       "    <tr>\n",
       "      <th>3</th>\n",
       "      <td>-2.288178</td>\n",
       "      <td>-0.158278</td>\n",
       "    </tr>\n",
       "    <tr>\n",
       "      <th>4</th>\n",
       "      <td>-0.621822</td>\n",
       "      <td>-2.514020</td>\n",
       "    </tr>\n",
       "    <tr>\n",
       "      <th>...</th>\n",
       "      <td>...</td>\n",
       "      <td>...</td>\n",
       "    </tr>\n",
       "    <tr>\n",
       "      <th>328</th>\n",
       "      <td>0.655653</td>\n",
       "      <td>2.577632</td>\n",
       "    </tr>\n",
       "    <tr>\n",
       "      <th>329</th>\n",
       "      <td>0.562064</td>\n",
       "      <td>2.387538</td>\n",
       "    </tr>\n",
       "    <tr>\n",
       "      <th>330</th>\n",
       "      <td>3.085743</td>\n",
       "      <td>0.399018</td>\n",
       "    </tr>\n",
       "    <tr>\n",
       "      <th>331</th>\n",
       "      <td>0.512527</td>\n",
       "      <td>2.218491</td>\n",
       "    </tr>\n",
       "    <tr>\n",
       "      <th>332</th>\n",
       "      <td>2.483793</td>\n",
       "      <td>-0.013162</td>\n",
       "    </tr>\n",
       "  </tbody>\n",
       "</table>\n",
       "<p>333 rows × 2 columns</p>\n",
       "</div>"
      ],
      "text/plain": [
       "          PC1       PC2\n",
       "0   -0.729521 -2.097192\n",
       "1   -1.929304  0.412150\n",
       "2   -1.953525  0.308485\n",
       "3   -2.288178 -0.158278\n",
       "4   -0.621822 -2.514020\n",
       "..        ...       ...\n",
       "328  0.655653  2.577632\n",
       "329  0.562064  2.387538\n",
       "330  3.085743  0.399018\n",
       "331  0.512527  2.218491\n",
       "332  2.483793 -0.013162\n",
       "\n",
       "[333 rows x 2 columns]"
      ]
     },
     "execution_count": 125,
     "metadata": {},
     "output_type": "execute_result"
    }
   ],
   "source": [
    "df_pca_2_dim = df_pca.iloc[:,:2]\n",
    "df_pca_2_dim"
   ]
  },
  {
   "cell_type": "code",
   "execution_count": 308,
   "id": "24ad0611",
   "metadata": {},
   "outputs": [],
   "source": [
    "# Define filter function \n",
    "filter_func = Projection(columns=[0,1])\n",
    "# Define cover\n",
    "cover = CubicalCover(n_intervals=8, overlap_frac=0.1)\n",
    "# Choose clustering algorithm\n",
    "clustering = DBSCAN(eps=0.5, min_samples=8)\n"
   ]
  },
  {
   "cell_type": "code",
   "execution_count": 309,
   "id": "1aeccbcf",
   "metadata": {},
   "outputs": [
    {
     "data": {
      "application/vnd.plotly.v1+json": {
       "config": {
        "plotlyServerURL": "https://plot.ly",
        "scrollZoom": false
       },
       "data": [
        {
         "hoverinfo": "none",
         "line": {
          "color": "#888",
          "width": 1
         },
         "mode": "lines",
         "name": "edge_trace",
         "type": "scatter",
         "uid": "f04b6b5f-83a1-46c3-baa1-d81580627445",
         "x": [
          2.5264262723250357,
          2.3229196888740113,
          null,
          2.5264262723250357,
          3.529392008399909,
          null,
          2.5264262723250357,
          3.549360597998671,
          null,
          -3.1795547902334387,
          -3.355703874409974,
          null,
          -3.1795547902334387,
          -2.06313425803538,
          null,
          0.06703127431768474,
          -1.1592553620693002,
          null,
          -3.355703874409974,
          -2.433252111459793,
          null,
          -3.355703874409974,
          -3.410924562203169,
          null,
          -3.355703874409974,
          -3.9517938492735896,
          null,
          2.3229196888740113,
          3.529392008399909,
          null,
          2.3229196888740113,
          3.549360597998671,
          null,
          2.3229196888740113,
          1.6046069436763817,
          null,
          -2.06313425803538,
          -2.433252111459793,
          null,
          -1.1592553620693002,
          -2.433252111459793,
          null,
          -2.433252111459793,
          -3.410924562203169,
          null,
          -2.433252111459793,
          -3.9517938492735896,
          null,
          -2.433252111459793,
          -2.260624472362437,
          null,
          3.529392008399909,
          3.549360597998671,
          null,
          3.529392008399909,
          4.6572942132644615,
          null,
          3.529392008399909,
          2.8662588843291474,
          null,
          3.549360597998671,
          4.6572942132644615,
          null,
          1.6046069436763817,
          0.470118852584349,
          null,
          1.6046069436763817,
          2.8662588843291474,
          null,
          1.6046069436763817,
          1.0965585258243937,
          null,
          1.6046069436763817,
          0.21362762699261872,
          null,
          -3.410924562203169,
          -3.9517938492735896,
          null,
          -3.410924562203169,
          -3.381464468814039,
          null,
          0.470118852584349,
          1.0965585258243937,
          null,
          0.470118852584349,
          0.21362762699261872,
          null,
          -2.260624472362437,
          -3.381464468814039,
          null,
          1.0965585258243937,
          0.21362762699261872,
          null,
          4.103861728283789,
          2.926518117528627,
          null,
          4.103861728283789,
          4.626696445813947,
          null,
          4.103861728283789,
          4.152044627921809,
          null,
          4.103861728283789,
          5.229321754088547,
          null,
          -0.6731102867195046,
          -1.152677908284829,
          null,
          -0.6731102867195046,
          0.6049697078392096,
          null,
          -0.6731102867195046,
          -1.5358504247078875,
          null,
          -1.152677908284829,
          -0.06584172100131389,
          null,
          -0.06584172100131389,
          0.8948038948696332,
          null,
          -0.06584172100131389,
          0.6049697078392096,
          null,
          -0.06584172100131389,
          -1.5358504247078875,
          null,
          -0.06584172100131389,
          1.4369433116373647,
          null,
          0.8948038948696332,
          0.6049697078392096,
          null,
          0.8948038948696332,
          1.4369433116373647,
          null,
          2.271931708929225,
          2.926518117528627,
          null,
          0.6049697078392096,
          1.4369433116373647,
          null,
          4.152044627921809,
          3.3306495591975387,
          null
         ],
         "y": [
          1.8013211392410111,
          2.85306664716551,
          null,
          1.8013211392410111,
          3.1206229409460646,
          null,
          1.8013211392410111,
          2.049736063293477,
          null,
          2.5633174572398123,
          1.3181390954177565,
          null,
          2.5633174572398123,
          1.9584998522975086,
          null,
          0.47124163119174267,
          0.574630706383556,
          null,
          1.3181390954177565,
          0.551228358048816,
          null,
          1.3181390954177565,
          -0.17909455040821026,
          null,
          1.3181390954177565,
          0.5935703727010506,
          null,
          2.85306664716551,
          3.1206229409460646,
          null,
          2.85306664716551,
          2.049736063293477,
          null,
          2.85306664716551,
          3.868191012324825,
          null,
          1.9584998522975086,
          0.551228358048816,
          null,
          0.574630706383556,
          0.551228358048816,
          null,
          0.551228358048816,
          -0.17909455040821026,
          null,
          0.551228358048816,
          0.5935703727010506,
          null,
          0.551228358048816,
          -0.8717032657653692,
          null,
          3.1206229409460646,
          2.049736063293477,
          null,
          3.1206229409460646,
          2.4397425313220373,
          null,
          3.1206229409460646,
          4.230032392943578,
          null,
          2.049736063293477,
          2.4397425313220373,
          null,
          3.868191012324825,
          3.417230985117191,
          null,
          3.868191012324825,
          4.230032392943578,
          null,
          3.868191012324825,
          4.854395351855457,
          null,
          3.868191012324825,
          4.403395465407367,
          null,
          -0.17909455040821026,
          0.5935703727010506,
          null,
          -0.17909455040821026,
          -1.4576421413068676,
          null,
          3.417230985117191,
          4.854395351855457,
          null,
          3.417230985117191,
          4.403395465407367,
          null,
          -0.8717032657653692,
          -1.4576421413068676,
          null,
          4.854395351855457,
          4.403395465407367,
          null,
          -0.9012445364480981,
          -0.4900803375671666,
          null,
          -0.9012445364480981,
          0.3455775646701205,
          null,
          -0.9012445364480981,
          -2.1640805846629467,
          null,
          -0.9012445364480981,
          -0.7938434718388305,
          null,
          -2.3419561495725185,
          -3.794154497860547,
          null,
          -2.3419561495725185,
          -2.6045248646458536,
          null,
          -2.3419561495725185,
          -3.022311388736215,
          null,
          -3.794154497860547,
          -3.604598993155067,
          null,
          -3.604598993155067,
          -4.105869203487193,
          null,
          -3.604598993155067,
          -2.6045248646458536,
          null,
          -3.604598993155067,
          -3.022311388736215,
          null,
          -3.604598993155067,
          -3.292279031745859,
          null,
          -4.105869203487193,
          -2.6045248646458536,
          null,
          -4.105869203487193,
          -3.292279031745859,
          null,
          -1.547613732934193,
          -0.4900803375671666,
          null,
          -2.6045248646458536,
          -3.292279031745859,
          null,
          -2.1640805846629467,
          -3.049487039259903,
          null
         ]
        },
        {
         "hoverinfo": "text",
         "hovertext": [
          "Node ID: 0<br>Pullback set label: 6<br>Partial cluster label: -1<br>Node size: 22<br>Summary statistic: 59.1",
          "Node ID: 1<br>Pullback set label: 4<br>Partial cluster label: 0<br>Node size: 14<br>Summary statistic: 71.6",
          "Node ID: 2<br>Pullback set label: 0<br>Partial cluster label: -1<br>Node size: 15<br>Summary statistic: 46.0",
          "Node ID: 3<br>Pullback set label: 1<br>Partial cluster label: -1<br>Node size: 9<br>Summary statistic: 61.1",
          "Node ID: 4<br>Pullback set label: 12<br>Partial cluster label: -1<br>Node size: 13<br>Summary statistic: 105.0",
          "Node ID: 5<br>Pullback set label: 1<br>Partial cluster label: 0<br>Node size: 27<br>Summary statistic: 84.9",
          "Node ID: 6<br>Pullback set label: 3<br>Partial cluster label: -1<br>Node size: 8<br>Summary statistic: 84.5",
          "Node ID: 7<br>Pullback set label: 4<br>Partial cluster label: -1<br>Node size: 31<br>Summary statistic: 134.0",
          "Node ID: 8<br>Pullback set label: 11<br>Partial cluster label: -1<br>Node size: 18<br>Summary statistic: 65.9",
          "Node ID: 9<br>Pullback set label: 7<br>Partial cluster label: -1<br>Node size: 7<br>Summary statistic: 71.4",
          "Node ID: 10<br>Pullback set label: 12<br>Partial cluster label: 0<br>Node size: 24<br>Summary statistic: 85.2",
          "Node ID: 11<br>Pullback set label: 16<br>Partial cluster label: -1<br>Node size: 20<br>Summary statistic: 146.0",
          "Node ID: 12<br>Pullback set label: 5<br>Partial cluster label: -1<br>Node size: 9<br>Summary statistic: 131.0",
          "Node ID: 13<br>Pullback set label: 2<br>Partial cluster label: -1<br>Node size: 2<br>Summary statistic: 103.0",
          "Node ID: 14<br>Pullback set label: 17<br>Partial cluster label: -1<br>Node size: 7<br>Summary statistic: 143.0",
          "Node ID: 15<br>Pullback set label: 15<br>Partial cluster label: -1<br>Node size: 3<br>Summary statistic: 145.0",
          "Node ID: 16<br>Pullback set label: 16<br>Partial cluster label: 0<br>Node size: 10<br>Summary statistic: 183.0",
          "Node ID: 17<br>Pullback set label: 8<br>Partial cluster label: -1<br>Node size: 11<br>Summary statistic: 176.0",
          "Node ID: 18<br>Pullback set label: 9<br>Partial cluster label: -1<br>Node size: 7<br>Summary statistic: 189.0",
          "Node ID: 19<br>Pullback set label: 21<br>Partial cluster label: -1<br>Node size: 6<br>Summary statistic: 192.0",
          "Node ID: 20<br>Pullback set label: 22<br>Partial cluster label: -1<br>Node size: 1<br>Summary statistic: 211.0",
          "Node ID: 21<br>Pullback set label: 14<br>Partial cluster label: 0<br>Node size: 42<br>Summary statistic: 264.0",
          "Node ID: 22<br>Pullback set label: 26<br>Partial cluster label: 0<br>Node size: 29<br>Summary statistic: 270.0",
          "Node ID: 23<br>Pullback set label: 28<br>Partial cluster label: -1<br>Node size: 13<br>Summary statistic: 283.0",
          "Node ID: 24<br>Pullback set label: 26<br>Partial cluster label: -1<br>Node size: 16<br>Summary statistic: 281.0",
          "Node ID: 25<br>Pullback set label: 24<br>Partial cluster label: -1<br>Node size: 9<br>Summary statistic: 269.0",
          "Node ID: 26<br>Pullback set label: 14<br>Partial cluster label: -1<br>Node size: 2<br>Summary statistic: 270.0",
          "Node ID: 27<br>Pullback set label: 25<br>Partial cluster label: -1<br>Node size: 7<br>Summary statistic: 289.0",
          "Node ID: 28<br>Pullback set label: 13<br>Partial cluster label: -1<br>Node size: 4<br>Summary statistic: 284.0",
          "Node ID: 29<br>Pullback set label: 10<br>Partial cluster label: -1<br>Node size: 2<br>Summary statistic: 240.0",
          "Node ID: 30<br>Pullback set label: 27<br>Partial cluster label: -1<br>Node size: 4<br>Summary statistic: 277.0",
          "Node ID: 31<br>Pullback set label: 20<br>Partial cluster label: 0<br>Node size: 13<br>Summary statistic: 290.0",
          "Node ID: 32<br>Pullback set label: 23<br>Partial cluster label: -1<br>Node size: 5<br>Summary statistic: 261.0",
          "Node ID: 33<br>Pullback set label: 20<br>Partial cluster label: -1<br>Node size: 4<br>Summary statistic: 300.0",
          "Node ID: 34<br>Pullback set label: 19<br>Partial cluster label: -1<br>Node size: 1<br>Summary statistic: 313.0",
          "Node ID: 35<br>Pullback set label: 18<br>Partial cluster label: -1<br>Node size: 1<br>Summary statistic: 326.0"
         ],
         "marker": {
          "color": [
           59.09090909090909,
           71.57142857142857,
           46,
           61.111111111111114,
           104.92307692307692,
           84.85185185185185,
           84.5,
           133.58064516129033,
           65.94444444444444,
           71.42857142857143,
           85.20833333333333,
           146.15,
           131,
           103,
           143.28571428571428,
           145.33333333333334,
           183,
           175.8181818181818,
           188.57142857142858,
           191.83333333333334,
           211,
           263.5952380952381,
           270.3103448275862,
           282.61538461538464,
           281.125,
           268.8888888888889,
           269.5,
           289,
           283.75,
           240.5,
           277,
           290.46153846153845,
           260.8,
           300.5,
           313,
           326
          ],
          "colorbar": {
           "thickness": 15,
           "title": {
            "side": "right",
            "text": ""
           },
           "xanchor": "left"
          },
          "colorscale": [
           [
            0,
            "#440154"
           ],
           [
            0.1111111111111111,
            "#482878"
           ],
           [
            0.2222222222222222,
            "#3e4989"
           ],
           [
            0.3333333333333333,
            "#31688e"
           ],
           [
            0.4444444444444444,
            "#26828e"
           ],
           [
            0.5555555555555556,
            "#1f9e89"
           ],
           [
            0.6666666666666666,
            "#35b779"
           ],
           [
            0.7777777777777778,
            "#6ece58"
           ],
           [
            0.8888888888888888,
            "#b5de2b"
           ],
           [
            1,
            "#fde725"
           ]
          ],
          "line": {
           "color": "#888",
           "width": 1
          },
          "opacity": 1,
          "reversescale": false,
          "showscale": true,
          "size": [
           22,
           14,
           15,
           9,
           13,
           27,
           8,
           31,
           18,
           7,
           24,
           20,
           9,
           2,
           7,
           3,
           10,
           11,
           7,
           6,
           1,
           42,
           29,
           13,
           16,
           9,
           2,
           7,
           4,
           2,
           4,
           13,
           5,
           4,
           1,
           1
          ],
          "sizemin": 4,
          "sizemode": "area",
          "sizeref": 0.5833333333333334
         },
         "mode": "markers",
         "name": "node_trace",
         "type": "scatter",
         "uid": "0560c02e-3a5f-40dc-becc-b8e6a732d3eb",
         "x": [
          2.5264262723250357,
          -3.1795547902334387,
          0.06703127431768474,
          -3.355703874409974,
          2.3229196888740113,
          -2.06313425803538,
          -1.1592553620693002,
          -2.433252111459793,
          3.529392008399909,
          3.549360597998671,
          4.6572942132644615,
          1.6046069436763817,
          -3.410924562203169,
          -3.9517938492735896,
          0.470118852584349,
          2.8662588843291474,
          -1.3321557237465205,
          -2.260624472362437,
          -3.381464468814039,
          1.0965585258243937,
          0.21362762699261872,
          4.103861728283789,
          -0.6731102867195046,
          -1.152677908284829,
          -0.06584172100131389,
          0.8948038948696332,
          2.271931708929225,
          0.6049697078392096,
          2.926518117528627,
          4.626696445813947,
          -1.5358504247078875,
          4.152044627921809,
          1.4369433116373647,
          5.229321754088547,
          3.3306495591975387,
          -2.2379528328427654
         ],
         "y": [
          1.8013211392410111,
          2.5633174572398123,
          0.47124163119174267,
          1.3181390954177565,
          2.85306664716551,
          1.9584998522975086,
          0.574630706383556,
          0.551228358048816,
          3.1206229409460646,
          2.049736063293477,
          2.4397425313220373,
          3.868191012324825,
          -0.17909455040821026,
          0.5935703727010506,
          3.417230985117191,
          4.230032392943578,
          4.49740123275583,
          -0.8717032657653692,
          -1.4576421413068676,
          4.854395351855457,
          4.403395465407367,
          -0.9012445364480981,
          -2.3419561495725185,
          -3.794154497860547,
          -3.604598993155067,
          -4.105869203487193,
          -1.547613732934193,
          -2.6045248646458536,
          -0.4900803375671666,
          0.3455775646701205,
          -3.022311388736215,
          -2.1640805846629467,
          -3.292279031745859,
          -0.7938434718388305,
          -3.049487039259903,
          3.9191993563036718
         ]
        }
       ],
       "layout": {
        "autosize": false,
        "hovermode": "closest",
        "margin": {
         "b": 20,
         "l": 5,
         "r": 5,
         "t": 40
        },
        "showlegend": false,
        "template": {
         "data": {
          "bar": [
           {
            "error_x": {
             "color": "rgb(36,36,36)"
            },
            "error_y": {
             "color": "rgb(36,36,36)"
            },
            "marker": {
             "line": {
              "color": "white",
              "width": 0.5
             },
             "pattern": {
              "fillmode": "overlay",
              "size": 10,
              "solidity": 0.2
             }
            },
            "type": "bar"
           }
          ],
          "barpolar": [
           {
            "marker": {
             "line": {
              "color": "white",
              "width": 0.5
             },
             "pattern": {
              "fillmode": "overlay",
              "size": 10,
              "solidity": 0.2
             }
            },
            "type": "barpolar"
           }
          ],
          "carpet": [
           {
            "aaxis": {
             "endlinecolor": "rgb(36,36,36)",
             "gridcolor": "white",
             "linecolor": "white",
             "minorgridcolor": "white",
             "startlinecolor": "rgb(36,36,36)"
            },
            "baxis": {
             "endlinecolor": "rgb(36,36,36)",
             "gridcolor": "white",
             "linecolor": "white",
             "minorgridcolor": "white",
             "startlinecolor": "rgb(36,36,36)"
            },
            "type": "carpet"
           }
          ],
          "choropleth": [
           {
            "colorbar": {
             "outlinewidth": 1,
             "tickcolor": "rgb(36,36,36)",
             "ticks": "outside"
            },
            "type": "choropleth"
           }
          ],
          "contour": [
           {
            "colorbar": {
             "outlinewidth": 1,
             "tickcolor": "rgb(36,36,36)",
             "ticks": "outside"
            },
            "colorscale": [
             [
              0,
              "#440154"
             ],
             [
              0.1111111111111111,
              "#482878"
             ],
             [
              0.2222222222222222,
              "#3e4989"
             ],
             [
              0.3333333333333333,
              "#31688e"
             ],
             [
              0.4444444444444444,
              "#26828e"
             ],
             [
              0.5555555555555556,
              "#1f9e89"
             ],
             [
              0.6666666666666666,
              "#35b779"
             ],
             [
              0.7777777777777778,
              "#6ece58"
             ],
             [
              0.8888888888888888,
              "#b5de2b"
             ],
             [
              1,
              "#fde725"
             ]
            ],
            "type": "contour"
           }
          ],
          "contourcarpet": [
           {
            "colorbar": {
             "outlinewidth": 1,
             "tickcolor": "rgb(36,36,36)",
             "ticks": "outside"
            },
            "type": "contourcarpet"
           }
          ],
          "heatmap": [
           {
            "colorbar": {
             "outlinewidth": 1,
             "tickcolor": "rgb(36,36,36)",
             "ticks": "outside"
            },
            "colorscale": [
             [
              0,
              "#440154"
             ],
             [
              0.1111111111111111,
              "#482878"
             ],
             [
              0.2222222222222222,
              "#3e4989"
             ],
             [
              0.3333333333333333,
              "#31688e"
             ],
             [
              0.4444444444444444,
              "#26828e"
             ],
             [
              0.5555555555555556,
              "#1f9e89"
             ],
             [
              0.6666666666666666,
              "#35b779"
             ],
             [
              0.7777777777777778,
              "#6ece58"
             ],
             [
              0.8888888888888888,
              "#b5de2b"
             ],
             [
              1,
              "#fde725"
             ]
            ],
            "type": "heatmap"
           }
          ],
          "heatmapgl": [
           {
            "colorbar": {
             "outlinewidth": 1,
             "tickcolor": "rgb(36,36,36)",
             "ticks": "outside"
            },
            "colorscale": [
             [
              0,
              "#440154"
             ],
             [
              0.1111111111111111,
              "#482878"
             ],
             [
              0.2222222222222222,
              "#3e4989"
             ],
             [
              0.3333333333333333,
              "#31688e"
             ],
             [
              0.4444444444444444,
              "#26828e"
             ],
             [
              0.5555555555555556,
              "#1f9e89"
             ],
             [
              0.6666666666666666,
              "#35b779"
             ],
             [
              0.7777777777777778,
              "#6ece58"
             ],
             [
              0.8888888888888888,
              "#b5de2b"
             ],
             [
              1,
              "#fde725"
             ]
            ],
            "type": "heatmapgl"
           }
          ],
          "histogram": [
           {
            "marker": {
             "line": {
              "color": "white",
              "width": 0.6
             }
            },
            "type": "histogram"
           }
          ],
          "histogram2d": [
           {
            "colorbar": {
             "outlinewidth": 1,
             "tickcolor": "rgb(36,36,36)",
             "ticks": "outside"
            },
            "colorscale": [
             [
              0,
              "#440154"
             ],
             [
              0.1111111111111111,
              "#482878"
             ],
             [
              0.2222222222222222,
              "#3e4989"
             ],
             [
              0.3333333333333333,
              "#31688e"
             ],
             [
              0.4444444444444444,
              "#26828e"
             ],
             [
              0.5555555555555556,
              "#1f9e89"
             ],
             [
              0.6666666666666666,
              "#35b779"
             ],
             [
              0.7777777777777778,
              "#6ece58"
             ],
             [
              0.8888888888888888,
              "#b5de2b"
             ],
             [
              1,
              "#fde725"
             ]
            ],
            "type": "histogram2d"
           }
          ],
          "histogram2dcontour": [
           {
            "colorbar": {
             "outlinewidth": 1,
             "tickcolor": "rgb(36,36,36)",
             "ticks": "outside"
            },
            "colorscale": [
             [
              0,
              "#440154"
             ],
             [
              0.1111111111111111,
              "#482878"
             ],
             [
              0.2222222222222222,
              "#3e4989"
             ],
             [
              0.3333333333333333,
              "#31688e"
             ],
             [
              0.4444444444444444,
              "#26828e"
             ],
             [
              0.5555555555555556,
              "#1f9e89"
             ],
             [
              0.6666666666666666,
              "#35b779"
             ],
             [
              0.7777777777777778,
              "#6ece58"
             ],
             [
              0.8888888888888888,
              "#b5de2b"
             ],
             [
              1,
              "#fde725"
             ]
            ],
            "type": "histogram2dcontour"
           }
          ],
          "mesh3d": [
           {
            "colorbar": {
             "outlinewidth": 1,
             "tickcolor": "rgb(36,36,36)",
             "ticks": "outside"
            },
            "type": "mesh3d"
           }
          ],
          "parcoords": [
           {
            "line": {
             "colorbar": {
              "outlinewidth": 1,
              "tickcolor": "rgb(36,36,36)",
              "ticks": "outside"
             }
            },
            "type": "parcoords"
           }
          ],
          "pie": [
           {
            "automargin": true,
            "type": "pie"
           }
          ],
          "scatter": [
           {
            "fillpattern": {
             "fillmode": "overlay",
             "size": 10,
             "solidity": 0.2
            },
            "type": "scatter"
           }
          ],
          "scatter3d": [
           {
            "line": {
             "colorbar": {
              "outlinewidth": 1,
              "tickcolor": "rgb(36,36,36)",
              "ticks": "outside"
             }
            },
            "marker": {
             "colorbar": {
              "outlinewidth": 1,
              "tickcolor": "rgb(36,36,36)",
              "ticks": "outside"
             }
            },
            "type": "scatter3d"
           }
          ],
          "scattercarpet": [
           {
            "marker": {
             "colorbar": {
              "outlinewidth": 1,
              "tickcolor": "rgb(36,36,36)",
              "ticks": "outside"
             }
            },
            "type": "scattercarpet"
           }
          ],
          "scattergeo": [
           {
            "marker": {
             "colorbar": {
              "outlinewidth": 1,
              "tickcolor": "rgb(36,36,36)",
              "ticks": "outside"
             }
            },
            "type": "scattergeo"
           }
          ],
          "scattergl": [
           {
            "marker": {
             "colorbar": {
              "outlinewidth": 1,
              "tickcolor": "rgb(36,36,36)",
              "ticks": "outside"
             }
            },
            "type": "scattergl"
           }
          ],
          "scattermapbox": [
           {
            "marker": {
             "colorbar": {
              "outlinewidth": 1,
              "tickcolor": "rgb(36,36,36)",
              "ticks": "outside"
             }
            },
            "type": "scattermapbox"
           }
          ],
          "scatterpolar": [
           {
            "marker": {
             "colorbar": {
              "outlinewidth": 1,
              "tickcolor": "rgb(36,36,36)",
              "ticks": "outside"
             }
            },
            "type": "scatterpolar"
           }
          ],
          "scatterpolargl": [
           {
            "marker": {
             "colorbar": {
              "outlinewidth": 1,
              "tickcolor": "rgb(36,36,36)",
              "ticks": "outside"
             }
            },
            "type": "scatterpolargl"
           }
          ],
          "scatterternary": [
           {
            "marker": {
             "colorbar": {
              "outlinewidth": 1,
              "tickcolor": "rgb(36,36,36)",
              "ticks": "outside"
             }
            },
            "type": "scatterternary"
           }
          ],
          "surface": [
           {
            "colorbar": {
             "outlinewidth": 1,
             "tickcolor": "rgb(36,36,36)",
             "ticks": "outside"
            },
            "colorscale": [
             [
              0,
              "#440154"
             ],
             [
              0.1111111111111111,
              "#482878"
             ],
             [
              0.2222222222222222,
              "#3e4989"
             ],
             [
              0.3333333333333333,
              "#31688e"
             ],
             [
              0.4444444444444444,
              "#26828e"
             ],
             [
              0.5555555555555556,
              "#1f9e89"
             ],
             [
              0.6666666666666666,
              "#35b779"
             ],
             [
              0.7777777777777778,
              "#6ece58"
             ],
             [
              0.8888888888888888,
              "#b5de2b"
             ],
             [
              1,
              "#fde725"
             ]
            ],
            "type": "surface"
           }
          ],
          "table": [
           {
            "cells": {
             "fill": {
              "color": "rgb(237,237,237)"
             },
             "line": {
              "color": "white"
             }
            },
            "header": {
             "fill": {
              "color": "rgb(217,217,217)"
             },
             "line": {
              "color": "white"
             }
            },
            "type": "table"
           }
          ]
         },
         "layout": {
          "annotationdefaults": {
           "arrowhead": 0,
           "arrowwidth": 1
          },
          "autotypenumbers": "strict",
          "coloraxis": {
           "colorbar": {
            "outlinewidth": 1,
            "tickcolor": "rgb(36,36,36)",
            "ticks": "outside"
           }
          },
          "colorscale": {
           "diverging": [
            [
             0,
             "rgb(103,0,31)"
            ],
            [
             0.1,
             "rgb(178,24,43)"
            ],
            [
             0.2,
             "rgb(214,96,77)"
            ],
            [
             0.3,
             "rgb(244,165,130)"
            ],
            [
             0.4,
             "rgb(253,219,199)"
            ],
            [
             0.5,
             "rgb(247,247,247)"
            ],
            [
             0.6,
             "rgb(209,229,240)"
            ],
            [
             0.7,
             "rgb(146,197,222)"
            ],
            [
             0.8,
             "rgb(67,147,195)"
            ],
            [
             0.9,
             "rgb(33,102,172)"
            ],
            [
             1,
             "rgb(5,48,97)"
            ]
           ],
           "sequential": [
            [
             0,
             "#440154"
            ],
            [
             0.1111111111111111,
             "#482878"
            ],
            [
             0.2222222222222222,
             "#3e4989"
            ],
            [
             0.3333333333333333,
             "#31688e"
            ],
            [
             0.4444444444444444,
             "#26828e"
            ],
            [
             0.5555555555555556,
             "#1f9e89"
            ],
            [
             0.6666666666666666,
             "#35b779"
            ],
            [
             0.7777777777777778,
             "#6ece58"
            ],
            [
             0.8888888888888888,
             "#b5de2b"
            ],
            [
             1,
             "#fde725"
            ]
           ],
           "sequentialminus": [
            [
             0,
             "#440154"
            ],
            [
             0.1111111111111111,
             "#482878"
            ],
            [
             0.2222222222222222,
             "#3e4989"
            ],
            [
             0.3333333333333333,
             "#31688e"
            ],
            [
             0.4444444444444444,
             "#26828e"
            ],
            [
             0.5555555555555556,
             "#1f9e89"
            ],
            [
             0.6666666666666666,
             "#35b779"
            ],
            [
             0.7777777777777778,
             "#6ece58"
            ],
            [
             0.8888888888888888,
             "#b5de2b"
            ],
            [
             1,
             "#fde725"
            ]
           ]
          },
          "colorway": [
           "#1F77B4",
           "#FF7F0E",
           "#2CA02C",
           "#D62728",
           "#9467BD",
           "#8C564B",
           "#E377C2",
           "#7F7F7F",
           "#BCBD22",
           "#17BECF"
          ],
          "font": {
           "color": "rgb(36,36,36)"
          },
          "geo": {
           "bgcolor": "white",
           "lakecolor": "white",
           "landcolor": "white",
           "showlakes": true,
           "showland": true,
           "subunitcolor": "white"
          },
          "hoverlabel": {
           "align": "left"
          },
          "hovermode": "closest",
          "mapbox": {
           "style": "light"
          },
          "paper_bgcolor": "white",
          "plot_bgcolor": "white",
          "polar": {
           "angularaxis": {
            "gridcolor": "rgb(232,232,232)",
            "linecolor": "rgb(36,36,36)",
            "showgrid": false,
            "showline": true,
            "ticks": "outside"
           },
           "bgcolor": "white",
           "radialaxis": {
            "gridcolor": "rgb(232,232,232)",
            "linecolor": "rgb(36,36,36)",
            "showgrid": false,
            "showline": true,
            "ticks": "outside"
           }
          },
          "scene": {
           "xaxis": {
            "backgroundcolor": "white",
            "gridcolor": "rgb(232,232,232)",
            "gridwidth": 2,
            "linecolor": "rgb(36,36,36)",
            "showbackground": true,
            "showgrid": false,
            "showline": true,
            "ticks": "outside",
            "zeroline": false,
            "zerolinecolor": "rgb(36,36,36)"
           },
           "yaxis": {
            "backgroundcolor": "white",
            "gridcolor": "rgb(232,232,232)",
            "gridwidth": 2,
            "linecolor": "rgb(36,36,36)",
            "showbackground": true,
            "showgrid": false,
            "showline": true,
            "ticks": "outside",
            "zeroline": false,
            "zerolinecolor": "rgb(36,36,36)"
           },
           "zaxis": {
            "backgroundcolor": "white",
            "gridcolor": "rgb(232,232,232)",
            "gridwidth": 2,
            "linecolor": "rgb(36,36,36)",
            "showbackground": true,
            "showgrid": false,
            "showline": true,
            "ticks": "outside",
            "zeroline": false,
            "zerolinecolor": "rgb(36,36,36)"
           }
          },
          "shapedefaults": {
           "fillcolor": "black",
           "line": {
            "width": 0
           },
           "opacity": 0.3
          },
          "ternary": {
           "aaxis": {
            "gridcolor": "rgb(232,232,232)",
            "linecolor": "rgb(36,36,36)",
            "showgrid": false,
            "showline": true,
            "ticks": "outside"
           },
           "baxis": {
            "gridcolor": "rgb(232,232,232)",
            "linecolor": "rgb(36,36,36)",
            "showgrid": false,
            "showline": true,
            "ticks": "outside"
           },
           "bgcolor": "white",
           "caxis": {
            "gridcolor": "rgb(232,232,232)",
            "linecolor": "rgb(36,36,36)",
            "showgrid": false,
            "showline": true,
            "ticks": "outside"
           }
          },
          "title": {
           "x": 0.05
          },
          "xaxis": {
           "automargin": true,
           "gridcolor": "rgb(232,232,232)",
           "linecolor": "rgb(36,36,36)",
           "showgrid": false,
           "showline": true,
           "ticks": "outside",
           "title": {
            "standoff": 15
           },
           "zeroline": false,
           "zerolinecolor": "rgb(36,36,36)"
          },
          "yaxis": {
           "automargin": true,
           "gridcolor": "rgb(232,232,232)",
           "linecolor": "rgb(36,36,36)",
           "showgrid": false,
           "showline": true,
           "ticks": "outside",
           "title": {
            "standoff": 15
           },
           "zeroline": false,
           "zerolinecolor": "rgb(36,36,36)"
          }
         }
        },
        "title": {
         "text": ""
        },
        "xaxis": {
         "showgrid": false,
         "showline": false,
         "showticklabels": false,
         "ticks": "",
         "title": {
          "text": ""
         },
         "zeroline": false
        },
        "yaxis": {
         "showgrid": false,
         "showline": false,
         "showticklabels": false,
         "ticks": "",
         "title": {
          "text": ""
         },
         "zeroline": false
        }
       }
      }
     },
     "metadata": {},
     "output_type": "display_data"
    }
   ],
   "source": [
    "\n",
    "# Initialise pipeline\n",
    "pipe = make_mapper_pipeline(\n",
    "    filter_func=filter_func,\n",
    "    cover=cover,\n",
    "    clusterer=clustering,\n",
    "    verbose=False,\n",
    ")\n",
    "fig = plot_static_mapper_graph(pipe, penguins_PCA,)\n",
    "fig.show(config={'scrollZoom': False})"
   ]
  },
  {
   "cell_type": "code",
   "execution_count": 310,
   "id": "8824f9e7",
   "metadata": {},
   "outputs": [
    {
     "data": {
      "application/vnd.plotly.v1+json": {
       "config": {
        "plotlyServerURL": "https://plot.ly",
        "scrollZoom": true
       },
       "data": [
        {
         "hoverinfo": "none",
         "line": {
          "color": "#888",
          "width": 1
         },
         "mode": "lines",
         "name": "edge_trace",
         "type": "scatter",
         "uid": "fbc7bc99-e7a7-485f-9370-e4e467026233",
         "x": [
          2.5264262723250357,
          2.3229196888740113,
          null,
          2.5264262723250357,
          3.529392008399909,
          null,
          2.5264262723250357,
          3.549360597998671,
          null,
          -3.1795547902334387,
          -3.355703874409974,
          null,
          -3.1795547902334387,
          -2.06313425803538,
          null,
          0.06703127431768474,
          -1.1592553620693002,
          null,
          -3.355703874409974,
          -2.433252111459793,
          null,
          -3.355703874409974,
          -3.410924562203169,
          null,
          -3.355703874409974,
          -3.9517938492735896,
          null,
          2.3229196888740113,
          3.529392008399909,
          null,
          2.3229196888740113,
          3.549360597998671,
          null,
          2.3229196888740113,
          1.6046069436763817,
          null,
          -2.06313425803538,
          -2.433252111459793,
          null,
          -1.1592553620693002,
          -2.433252111459793,
          null,
          -2.433252111459793,
          -3.410924562203169,
          null,
          -2.433252111459793,
          -3.9517938492735896,
          null,
          -2.433252111459793,
          -2.260624472362437,
          null,
          3.529392008399909,
          3.549360597998671,
          null,
          3.529392008399909,
          4.6572942132644615,
          null,
          3.529392008399909,
          2.8662588843291474,
          null,
          3.549360597998671,
          4.6572942132644615,
          null,
          1.6046069436763817,
          0.470118852584349,
          null,
          1.6046069436763817,
          2.8662588843291474,
          null,
          1.6046069436763817,
          1.0965585258243937,
          null,
          1.6046069436763817,
          0.21362762699261872,
          null,
          -3.410924562203169,
          -3.9517938492735896,
          null,
          -3.410924562203169,
          -3.381464468814039,
          null,
          0.470118852584349,
          1.0965585258243937,
          null,
          0.470118852584349,
          0.21362762699261872,
          null,
          -2.260624472362437,
          -3.381464468814039,
          null,
          1.0965585258243937,
          0.21362762699261872,
          null,
          4.103861728283789,
          2.926518117528627,
          null,
          4.103861728283789,
          4.626696445813947,
          null,
          4.103861728283789,
          4.152044627921809,
          null,
          4.103861728283789,
          5.229321754088547,
          null,
          -0.6731102867195046,
          -1.152677908284829,
          null,
          -0.6731102867195046,
          0.6049697078392096,
          null,
          -0.6731102867195046,
          -1.5358504247078875,
          null,
          -1.152677908284829,
          -0.06584172100131389,
          null,
          -0.06584172100131389,
          0.8948038948696332,
          null,
          -0.06584172100131389,
          0.6049697078392096,
          null,
          -0.06584172100131389,
          -1.5358504247078875,
          null,
          -0.06584172100131389,
          1.4369433116373647,
          null,
          0.8948038948696332,
          0.6049697078392096,
          null,
          0.8948038948696332,
          1.4369433116373647,
          null,
          2.271931708929225,
          2.926518117528627,
          null,
          0.6049697078392096,
          1.4369433116373647,
          null,
          4.152044627921809,
          3.3306495591975387,
          null
         ],
         "y": [
          1.8013211392410111,
          2.85306664716551,
          null,
          1.8013211392410111,
          3.1206229409460646,
          null,
          1.8013211392410111,
          2.049736063293477,
          null,
          2.5633174572398123,
          1.3181390954177565,
          null,
          2.5633174572398123,
          1.9584998522975086,
          null,
          0.47124163119174267,
          0.574630706383556,
          null,
          1.3181390954177565,
          0.551228358048816,
          null,
          1.3181390954177565,
          -0.17909455040821026,
          null,
          1.3181390954177565,
          0.5935703727010506,
          null,
          2.85306664716551,
          3.1206229409460646,
          null,
          2.85306664716551,
          2.049736063293477,
          null,
          2.85306664716551,
          3.868191012324825,
          null,
          1.9584998522975086,
          0.551228358048816,
          null,
          0.574630706383556,
          0.551228358048816,
          null,
          0.551228358048816,
          -0.17909455040821026,
          null,
          0.551228358048816,
          0.5935703727010506,
          null,
          0.551228358048816,
          -0.8717032657653692,
          null,
          3.1206229409460646,
          2.049736063293477,
          null,
          3.1206229409460646,
          2.4397425313220373,
          null,
          3.1206229409460646,
          4.230032392943578,
          null,
          2.049736063293477,
          2.4397425313220373,
          null,
          3.868191012324825,
          3.417230985117191,
          null,
          3.868191012324825,
          4.230032392943578,
          null,
          3.868191012324825,
          4.854395351855457,
          null,
          3.868191012324825,
          4.403395465407367,
          null,
          -0.17909455040821026,
          0.5935703727010506,
          null,
          -0.17909455040821026,
          -1.4576421413068676,
          null,
          3.417230985117191,
          4.854395351855457,
          null,
          3.417230985117191,
          4.403395465407367,
          null,
          -0.8717032657653692,
          -1.4576421413068676,
          null,
          4.854395351855457,
          4.403395465407367,
          null,
          -0.9012445364480981,
          -0.4900803375671666,
          null,
          -0.9012445364480981,
          0.3455775646701205,
          null,
          -0.9012445364480981,
          -2.1640805846629467,
          null,
          -0.9012445364480981,
          -0.7938434718388305,
          null,
          -2.3419561495725185,
          -3.794154497860547,
          null,
          -2.3419561495725185,
          -2.6045248646458536,
          null,
          -2.3419561495725185,
          -3.022311388736215,
          null,
          -3.794154497860547,
          -3.604598993155067,
          null,
          -3.604598993155067,
          -4.105869203487193,
          null,
          -3.604598993155067,
          -2.6045248646458536,
          null,
          -3.604598993155067,
          -3.022311388736215,
          null,
          -3.604598993155067,
          -3.292279031745859,
          null,
          -4.105869203487193,
          -2.6045248646458536,
          null,
          -4.105869203487193,
          -3.292279031745859,
          null,
          -1.547613732934193,
          -0.4900803375671666,
          null,
          -2.6045248646458536,
          -3.292279031745859,
          null,
          -2.1640805846629467,
          -3.049487039259903,
          null
         ]
        },
        {
         "hoverinfo": "text",
         "hovertext": [
          "Node ID: 0<br>Pullback set label: 6<br>Partial cluster label: -1<br>Node size: 22<br>Summary statistic: 38.8",
          "Node ID: 1<br>Pullback set label: 4<br>Partial cluster label: 0<br>Node size: 14<br>Summary statistic: 39.1",
          "Node ID: 2<br>Pullback set label: 0<br>Partial cluster label: -1<br>Node size: 15<br>Summary statistic: 36.3",
          "Node ID: 3<br>Pullback set label: 1<br>Partial cluster label: -1<br>Node size: 9<br>Summary statistic: 38.5",
          "Node ID: 4<br>Pullback set label: 12<br>Partial cluster label: -1<br>Node size: 13<br>Summary statistic: 42.7",
          "Node ID: 5<br>Pullback set label: 1<br>Partial cluster label: 0<br>Node size: 27<br>Summary statistic: 36.6",
          "Node ID: 6<br>Pullback set label: 3<br>Partial cluster label: -1<br>Node size: 8<br>Summary statistic: 40.5",
          "Node ID: 7<br>Pullback set label: 4<br>Partial cluster label: -1<br>Node size: 31<br>Summary statistic: 41.5",
          "Node ID: 8<br>Pullback set label: 11<br>Partial cluster label: -1<br>Node size: 18<br>Summary statistic: 40.9",
          "Node ID: 9<br>Pullback set label: 7<br>Partial cluster label: -1<br>Node size: 7<br>Summary statistic: 38.8",
          "Node ID: 10<br>Pullback set label: 12<br>Partial cluster label: 0<br>Node size: 24<br>Summary statistic: 40.9",
          "Node ID: 11<br>Pullback set label: 16<br>Partial cluster label: -1<br>Node size: 20<br>Summary statistic: 48.4",
          "Node ID: 12<br>Pullback set label: 5<br>Partial cluster label: -1<br>Node size: 9<br>Summary statistic: 41.5",
          "Node ID: 13<br>Pullback set label: 2<br>Partial cluster label: -1<br>Node size: 2<br>Summary statistic: 34.2",
          "Node ID: 14<br>Pullback set label: 17<br>Partial cluster label: -1<br>Node size: 7<br>Summary statistic: 47.3",
          "Node ID: 15<br>Pullback set label: 15<br>Partial cluster label: -1<br>Node size: 3<br>Summary statistic: 50.5",
          "Node ID: 16<br>Pullback set label: 16<br>Partial cluster label: 0<br>Node size: 10<br>Summary statistic: 50.6",
          "Node ID: 17<br>Pullback set label: 8<br>Partial cluster label: -1<br>Node size: 11<br>Summary statistic: 48.8",
          "Node ID: 18<br>Pullback set label: 9<br>Partial cluster label: -1<br>Node size: 7<br>Summary statistic: 46.9",
          "Node ID: 19<br>Pullback set label: 21<br>Partial cluster label: -1<br>Node size: 6<br>Summary statistic: 52.3",
          "Node ID: 20<br>Pullback set label: 22<br>Partial cluster label: -1<br>Node size: 1<br>Summary statistic: 50.8",
          "Node ID: 21<br>Pullback set label: 14<br>Partial cluster label: 0<br>Node size: 42<br>Summary statistic: 45.4",
          "Node ID: 22<br>Pullback set label: 26<br>Partial cluster label: 0<br>Node size: 29<br>Summary statistic: 49.6",
          "Node ID: 23<br>Pullback set label: 28<br>Partial cluster label: -1<br>Node size: 13<br>Summary statistic: 52.0",
          "Node ID: 24<br>Pullback set label: 26<br>Partial cluster label: -1<br>Node size: 16<br>Summary statistic: 49.3",
          "Node ID: 25<br>Pullback set label: 24<br>Partial cluster label: -1<br>Node size: 9<br>Summary statistic: 46.9",
          "Node ID: 26<br>Pullback set label: 14<br>Partial cluster label: -1<br>Node size: 2<br>Summary statistic: 41.3",
          "Node ID: 27<br>Pullback set label: 25<br>Partial cluster label: -1<br>Node size: 7<br>Summary statistic: 49.5",
          "Node ID: 28<br>Pullback set label: 13<br>Partial cluster label: -1<br>Node size: 4<br>Summary statistic: 43.6",
          "Node ID: 29<br>Pullback set label: 10<br>Partial cluster label: -1<br>Node size: 2<br>Summary statistic: 42.4",
          "Node ID: 30<br>Pullback set label: 27<br>Partial cluster label: -1<br>Node size: 4<br>Summary statistic: 49.8",
          "Node ID: 31<br>Pullback set label: 20<br>Partial cluster label: 0<br>Node size: 13<br>Summary statistic: 47.1",
          "Node ID: 32<br>Pullback set label: 23<br>Partial cluster label: -1<br>Node size: 5<br>Summary statistic: 46.8",
          "Node ID: 33<br>Pullback set label: 20<br>Partial cluster label: -1<br>Node size: 4<br>Summary statistic: 47.4",
          "Node ID: 34<br>Pullback set label: 19<br>Partial cluster label: -1<br>Node size: 1<br>Summary statistic: 47.2",
          "Node ID: 35<br>Pullback set label: 18<br>Partial cluster label: -1<br>Node size: 1<br>Summary statistic: 44.5"
         ],
         "marker": {
          "color": [
           38.75454545454546,
           39.114285714285714,
           36.279999999999994,
           38.46666666666667,
           42.73076923076923,
           36.55185185185186,
           40.462500000000006,
           41.48709677419355,
           40.85555555555556,
           38.75714285714286,
           40.92916666666668,
           48.425000000000004,
           41.522222222222226,
           34.150000000000006,
           47.27142857142858,
           50.5,
           50.64999999999999,
           48.83636363636364,
           46.942857142857136,
           52.31666666666667,
           50.8,
           45.35238095238097,
           49.56551724137931,
           52.03846153846155,
           49.318749999999994,
           46.9,
           41.3,
           49.49999999999999,
           43.55,
           42.35,
           49.775,
           47.099999999999994,
           46.8,
           47.425,
           47.2,
           44.5
          ],
          "colorbar": {
           "thickness": 15,
           "title": {
            "side": "right",
            "text": ""
           },
           "xanchor": "left"
          },
          "colorscale": [
           [
            0,
            "#440154"
           ],
           [
            0.1111111111111111,
            "#482878"
           ],
           [
            0.2222222222222222,
            "#3e4989"
           ],
           [
            0.3333333333333333,
            "#31688e"
           ],
           [
            0.4444444444444444,
            "#26828e"
           ],
           [
            0.5555555555555556,
            "#1f9e89"
           ],
           [
            0.6666666666666666,
            "#35b779"
           ],
           [
            0.7777777777777778,
            "#6ece58"
           ],
           [
            0.8888888888888888,
            "#b5de2b"
           ],
           [
            1,
            "#fde725"
           ]
          ],
          "line": {
           "color": "#888",
           "width": 1
          },
          "opacity": 1,
          "reversescale": false,
          "showscale": true,
          "size": [
           22,
           14,
           15,
           9,
           13,
           27,
           8,
           31,
           18,
           7,
           24,
           20,
           9,
           2,
           7,
           3,
           10,
           11,
           7,
           6,
           1,
           42,
           29,
           13,
           16,
           9,
           2,
           7,
           4,
           2,
           4,
           13,
           5,
           4,
           1,
           1
          ],
          "sizemin": 4,
          "sizemode": "area",
          "sizeref": 0.5833333333333334
         },
         "mode": "markers",
         "name": "node_trace",
         "type": "scatter",
         "uid": "56785fef-d4f3-4ce1-a2b6-b724ff8d6fcb",
         "x": [
          2.5264262723250357,
          -3.1795547902334387,
          0.06703127431768474,
          -3.355703874409974,
          2.3229196888740113,
          -2.06313425803538,
          -1.1592553620693002,
          -2.433252111459793,
          3.529392008399909,
          3.549360597998671,
          4.6572942132644615,
          1.6046069436763817,
          -3.410924562203169,
          -3.9517938492735896,
          0.470118852584349,
          2.8662588843291474,
          -1.3321557237465205,
          -2.260624472362437,
          -3.381464468814039,
          1.0965585258243937,
          0.21362762699261872,
          4.103861728283789,
          -0.6731102867195046,
          -1.152677908284829,
          -0.06584172100131389,
          0.8948038948696332,
          2.271931708929225,
          0.6049697078392096,
          2.926518117528627,
          4.626696445813947,
          -1.5358504247078875,
          4.152044627921809,
          1.4369433116373647,
          5.229321754088547,
          3.3306495591975387,
          -2.2379528328427654
         ],
         "y": [
          1.8013211392410111,
          2.5633174572398123,
          0.47124163119174267,
          1.3181390954177565,
          2.85306664716551,
          1.9584998522975086,
          0.574630706383556,
          0.551228358048816,
          3.1206229409460646,
          2.049736063293477,
          2.4397425313220373,
          3.868191012324825,
          -0.17909455040821026,
          0.5935703727010506,
          3.417230985117191,
          4.230032392943578,
          4.49740123275583,
          -0.8717032657653692,
          -1.4576421413068676,
          4.854395351855457,
          4.403395465407367,
          -0.9012445364480981,
          -2.3419561495725185,
          -3.794154497860547,
          -3.604598993155067,
          -4.105869203487193,
          -1.547613732934193,
          -2.6045248646458536,
          -0.4900803375671666,
          0.3455775646701205,
          -3.022311388736215,
          -2.1640805846629467,
          -3.292279031745859,
          -0.7938434718388305,
          -3.049487039259903,
          3.9191993563036718
         ]
        }
       ],
       "layout": {
        "annotations": [
         {
          "align": "left",
          "showarrow": false,
          "text": "Color by:",
          "x": 0,
          "xref": "paper",
          "y": 1.0550000000000002,
          "yref": "paper"
         }
        ],
        "autosize": false,
        "hovermode": "closest",
        "margin": {
         "b": 20,
         "l": 5,
         "r": 5,
         "t": 40
        },
        "showlegend": false,
        "template": {
         "data": {
          "bar": [
           {
            "error_x": {
             "color": "rgb(36,36,36)"
            },
            "error_y": {
             "color": "rgb(36,36,36)"
            },
            "marker": {
             "line": {
              "color": "white",
              "width": 0.5
             },
             "pattern": {
              "fillmode": "overlay",
              "size": 10,
              "solidity": 0.2
             }
            },
            "type": "bar"
           }
          ],
          "barpolar": [
           {
            "marker": {
             "line": {
              "color": "white",
              "width": 0.5
             },
             "pattern": {
              "fillmode": "overlay",
              "size": 10,
              "solidity": 0.2
             }
            },
            "type": "barpolar"
           }
          ],
          "carpet": [
           {
            "aaxis": {
             "endlinecolor": "rgb(36,36,36)",
             "gridcolor": "white",
             "linecolor": "white",
             "minorgridcolor": "white",
             "startlinecolor": "rgb(36,36,36)"
            },
            "baxis": {
             "endlinecolor": "rgb(36,36,36)",
             "gridcolor": "white",
             "linecolor": "white",
             "minorgridcolor": "white",
             "startlinecolor": "rgb(36,36,36)"
            },
            "type": "carpet"
           }
          ],
          "choropleth": [
           {
            "colorbar": {
             "outlinewidth": 1,
             "tickcolor": "rgb(36,36,36)",
             "ticks": "outside"
            },
            "type": "choropleth"
           }
          ],
          "contour": [
           {
            "colorbar": {
             "outlinewidth": 1,
             "tickcolor": "rgb(36,36,36)",
             "ticks": "outside"
            },
            "colorscale": [
             [
              0,
              "#440154"
             ],
             [
              0.1111111111111111,
              "#482878"
             ],
             [
              0.2222222222222222,
              "#3e4989"
             ],
             [
              0.3333333333333333,
              "#31688e"
             ],
             [
              0.4444444444444444,
              "#26828e"
             ],
             [
              0.5555555555555556,
              "#1f9e89"
             ],
             [
              0.6666666666666666,
              "#35b779"
             ],
             [
              0.7777777777777778,
              "#6ece58"
             ],
             [
              0.8888888888888888,
              "#b5de2b"
             ],
             [
              1,
              "#fde725"
             ]
            ],
            "type": "contour"
           }
          ],
          "contourcarpet": [
           {
            "colorbar": {
             "outlinewidth": 1,
             "tickcolor": "rgb(36,36,36)",
             "ticks": "outside"
            },
            "type": "contourcarpet"
           }
          ],
          "heatmap": [
           {
            "colorbar": {
             "outlinewidth": 1,
             "tickcolor": "rgb(36,36,36)",
             "ticks": "outside"
            },
            "colorscale": [
             [
              0,
              "#440154"
             ],
             [
              0.1111111111111111,
              "#482878"
             ],
             [
              0.2222222222222222,
              "#3e4989"
             ],
             [
              0.3333333333333333,
              "#31688e"
             ],
             [
              0.4444444444444444,
              "#26828e"
             ],
             [
              0.5555555555555556,
              "#1f9e89"
             ],
             [
              0.6666666666666666,
              "#35b779"
             ],
             [
              0.7777777777777778,
              "#6ece58"
             ],
             [
              0.8888888888888888,
              "#b5de2b"
             ],
             [
              1,
              "#fde725"
             ]
            ],
            "type": "heatmap"
           }
          ],
          "heatmapgl": [
           {
            "colorbar": {
             "outlinewidth": 1,
             "tickcolor": "rgb(36,36,36)",
             "ticks": "outside"
            },
            "colorscale": [
             [
              0,
              "#440154"
             ],
             [
              0.1111111111111111,
              "#482878"
             ],
             [
              0.2222222222222222,
              "#3e4989"
             ],
             [
              0.3333333333333333,
              "#31688e"
             ],
             [
              0.4444444444444444,
              "#26828e"
             ],
             [
              0.5555555555555556,
              "#1f9e89"
             ],
             [
              0.6666666666666666,
              "#35b779"
             ],
             [
              0.7777777777777778,
              "#6ece58"
             ],
             [
              0.8888888888888888,
              "#b5de2b"
             ],
             [
              1,
              "#fde725"
             ]
            ],
            "type": "heatmapgl"
           }
          ],
          "histogram": [
           {
            "marker": {
             "line": {
              "color": "white",
              "width": 0.6
             }
            },
            "type": "histogram"
           }
          ],
          "histogram2d": [
           {
            "colorbar": {
             "outlinewidth": 1,
             "tickcolor": "rgb(36,36,36)",
             "ticks": "outside"
            },
            "colorscale": [
             [
              0,
              "#440154"
             ],
             [
              0.1111111111111111,
              "#482878"
             ],
             [
              0.2222222222222222,
              "#3e4989"
             ],
             [
              0.3333333333333333,
              "#31688e"
             ],
             [
              0.4444444444444444,
              "#26828e"
             ],
             [
              0.5555555555555556,
              "#1f9e89"
             ],
             [
              0.6666666666666666,
              "#35b779"
             ],
             [
              0.7777777777777778,
              "#6ece58"
             ],
             [
              0.8888888888888888,
              "#b5de2b"
             ],
             [
              1,
              "#fde725"
             ]
            ],
            "type": "histogram2d"
           }
          ],
          "histogram2dcontour": [
           {
            "colorbar": {
             "outlinewidth": 1,
             "tickcolor": "rgb(36,36,36)",
             "ticks": "outside"
            },
            "colorscale": [
             [
              0,
              "#440154"
             ],
             [
              0.1111111111111111,
              "#482878"
             ],
             [
              0.2222222222222222,
              "#3e4989"
             ],
             [
              0.3333333333333333,
              "#31688e"
             ],
             [
              0.4444444444444444,
              "#26828e"
             ],
             [
              0.5555555555555556,
              "#1f9e89"
             ],
             [
              0.6666666666666666,
              "#35b779"
             ],
             [
              0.7777777777777778,
              "#6ece58"
             ],
             [
              0.8888888888888888,
              "#b5de2b"
             ],
             [
              1,
              "#fde725"
             ]
            ],
            "type": "histogram2dcontour"
           }
          ],
          "mesh3d": [
           {
            "colorbar": {
             "outlinewidth": 1,
             "tickcolor": "rgb(36,36,36)",
             "ticks": "outside"
            },
            "type": "mesh3d"
           }
          ],
          "parcoords": [
           {
            "line": {
             "colorbar": {
              "outlinewidth": 1,
              "tickcolor": "rgb(36,36,36)",
              "ticks": "outside"
             }
            },
            "type": "parcoords"
           }
          ],
          "pie": [
           {
            "automargin": true,
            "type": "pie"
           }
          ],
          "scatter": [
           {
            "fillpattern": {
             "fillmode": "overlay",
             "size": 10,
             "solidity": 0.2
            },
            "type": "scatter"
           }
          ],
          "scatter3d": [
           {
            "line": {
             "colorbar": {
              "outlinewidth": 1,
              "tickcolor": "rgb(36,36,36)",
              "ticks": "outside"
             }
            },
            "marker": {
             "colorbar": {
              "outlinewidth": 1,
              "tickcolor": "rgb(36,36,36)",
              "ticks": "outside"
             }
            },
            "type": "scatter3d"
           }
          ],
          "scattercarpet": [
           {
            "marker": {
             "colorbar": {
              "outlinewidth": 1,
              "tickcolor": "rgb(36,36,36)",
              "ticks": "outside"
             }
            },
            "type": "scattercarpet"
           }
          ],
          "scattergeo": [
           {
            "marker": {
             "colorbar": {
              "outlinewidth": 1,
              "tickcolor": "rgb(36,36,36)",
              "ticks": "outside"
             }
            },
            "type": "scattergeo"
           }
          ],
          "scattergl": [
           {
            "marker": {
             "colorbar": {
              "outlinewidth": 1,
              "tickcolor": "rgb(36,36,36)",
              "ticks": "outside"
             }
            },
            "type": "scattergl"
           }
          ],
          "scattermapbox": [
           {
            "marker": {
             "colorbar": {
              "outlinewidth": 1,
              "tickcolor": "rgb(36,36,36)",
              "ticks": "outside"
             }
            },
            "type": "scattermapbox"
           }
          ],
          "scatterpolar": [
           {
            "marker": {
             "colorbar": {
              "outlinewidth": 1,
              "tickcolor": "rgb(36,36,36)",
              "ticks": "outside"
             }
            },
            "type": "scatterpolar"
           }
          ],
          "scatterpolargl": [
           {
            "marker": {
             "colorbar": {
              "outlinewidth": 1,
              "tickcolor": "rgb(36,36,36)",
              "ticks": "outside"
             }
            },
            "type": "scatterpolargl"
           }
          ],
          "scatterternary": [
           {
            "marker": {
             "colorbar": {
              "outlinewidth": 1,
              "tickcolor": "rgb(36,36,36)",
              "ticks": "outside"
             }
            },
            "type": "scatterternary"
           }
          ],
          "surface": [
           {
            "colorbar": {
             "outlinewidth": 1,
             "tickcolor": "rgb(36,36,36)",
             "ticks": "outside"
            },
            "colorscale": [
             [
              0,
              "#440154"
             ],
             [
              0.1111111111111111,
              "#482878"
             ],
             [
              0.2222222222222222,
              "#3e4989"
             ],
             [
              0.3333333333333333,
              "#31688e"
             ],
             [
              0.4444444444444444,
              "#26828e"
             ],
             [
              0.5555555555555556,
              "#1f9e89"
             ],
             [
              0.6666666666666666,
              "#35b779"
             ],
             [
              0.7777777777777778,
              "#6ece58"
             ],
             [
              0.8888888888888888,
              "#b5de2b"
             ],
             [
              1,
              "#fde725"
             ]
            ],
            "type": "surface"
           }
          ],
          "table": [
           {
            "cells": {
             "fill": {
              "color": "rgb(237,237,237)"
             },
             "line": {
              "color": "white"
             }
            },
            "header": {
             "fill": {
              "color": "rgb(217,217,217)"
             },
             "line": {
              "color": "white"
             }
            },
            "type": "table"
           }
          ]
         },
         "layout": {
          "annotationdefaults": {
           "arrowhead": 0,
           "arrowwidth": 1
          },
          "autotypenumbers": "strict",
          "coloraxis": {
           "colorbar": {
            "outlinewidth": 1,
            "tickcolor": "rgb(36,36,36)",
            "ticks": "outside"
           }
          },
          "colorscale": {
           "diverging": [
            [
             0,
             "rgb(103,0,31)"
            ],
            [
             0.1,
             "rgb(178,24,43)"
            ],
            [
             0.2,
             "rgb(214,96,77)"
            ],
            [
             0.3,
             "rgb(244,165,130)"
            ],
            [
             0.4,
             "rgb(253,219,199)"
            ],
            [
             0.5,
             "rgb(247,247,247)"
            ],
            [
             0.6,
             "rgb(209,229,240)"
            ],
            [
             0.7,
             "rgb(146,197,222)"
            ],
            [
             0.8,
             "rgb(67,147,195)"
            ],
            [
             0.9,
             "rgb(33,102,172)"
            ],
            [
             1,
             "rgb(5,48,97)"
            ]
           ],
           "sequential": [
            [
             0,
             "#440154"
            ],
            [
             0.1111111111111111,
             "#482878"
            ],
            [
             0.2222222222222222,
             "#3e4989"
            ],
            [
             0.3333333333333333,
             "#31688e"
            ],
            [
             0.4444444444444444,
             "#26828e"
            ],
            [
             0.5555555555555556,
             "#1f9e89"
            ],
            [
             0.6666666666666666,
             "#35b779"
            ],
            [
             0.7777777777777778,
             "#6ece58"
            ],
            [
             0.8888888888888888,
             "#b5de2b"
            ],
            [
             1,
             "#fde725"
            ]
           ],
           "sequentialminus": [
            [
             0,
             "#440154"
            ],
            [
             0.1111111111111111,
             "#482878"
            ],
            [
             0.2222222222222222,
             "#3e4989"
            ],
            [
             0.3333333333333333,
             "#31688e"
            ],
            [
             0.4444444444444444,
             "#26828e"
            ],
            [
             0.5555555555555556,
             "#1f9e89"
            ],
            [
             0.6666666666666666,
             "#35b779"
            ],
            [
             0.7777777777777778,
             "#6ece58"
            ],
            [
             0.8888888888888888,
             "#b5de2b"
            ],
            [
             1,
             "#fde725"
            ]
           ]
          },
          "colorway": [
           "#1F77B4",
           "#FF7F0E",
           "#2CA02C",
           "#D62728",
           "#9467BD",
           "#8C564B",
           "#E377C2",
           "#7F7F7F",
           "#BCBD22",
           "#17BECF"
          ],
          "font": {
           "color": "rgb(36,36,36)"
          },
          "geo": {
           "bgcolor": "white",
           "lakecolor": "white",
           "landcolor": "white",
           "showlakes": true,
           "showland": true,
           "subunitcolor": "white"
          },
          "hoverlabel": {
           "align": "left"
          },
          "hovermode": "closest",
          "mapbox": {
           "style": "light"
          },
          "paper_bgcolor": "white",
          "plot_bgcolor": "white",
          "polar": {
           "angularaxis": {
            "gridcolor": "rgb(232,232,232)",
            "linecolor": "rgb(36,36,36)",
            "showgrid": false,
            "showline": true,
            "ticks": "outside"
           },
           "bgcolor": "white",
           "radialaxis": {
            "gridcolor": "rgb(232,232,232)",
            "linecolor": "rgb(36,36,36)",
            "showgrid": false,
            "showline": true,
            "ticks": "outside"
           }
          },
          "scene": {
           "xaxis": {
            "backgroundcolor": "white",
            "gridcolor": "rgb(232,232,232)",
            "gridwidth": 2,
            "linecolor": "rgb(36,36,36)",
            "showbackground": true,
            "showgrid": false,
            "showline": true,
            "ticks": "outside",
            "zeroline": false,
            "zerolinecolor": "rgb(36,36,36)"
           },
           "yaxis": {
            "backgroundcolor": "white",
            "gridcolor": "rgb(232,232,232)",
            "gridwidth": 2,
            "linecolor": "rgb(36,36,36)",
            "showbackground": true,
            "showgrid": false,
            "showline": true,
            "ticks": "outside",
            "zeroline": false,
            "zerolinecolor": "rgb(36,36,36)"
           },
           "zaxis": {
            "backgroundcolor": "white",
            "gridcolor": "rgb(232,232,232)",
            "gridwidth": 2,
            "linecolor": "rgb(36,36,36)",
            "showbackground": true,
            "showgrid": false,
            "showline": true,
            "ticks": "outside",
            "zeroline": false,
            "zerolinecolor": "rgb(36,36,36)"
           }
          },
          "shapedefaults": {
           "fillcolor": "black",
           "line": {
            "width": 0
           },
           "opacity": 0.3
          },
          "ternary": {
           "aaxis": {
            "gridcolor": "rgb(232,232,232)",
            "linecolor": "rgb(36,36,36)",
            "showgrid": false,
            "showline": true,
            "ticks": "outside"
           },
           "baxis": {
            "gridcolor": "rgb(232,232,232)",
            "linecolor": "rgb(36,36,36)",
            "showgrid": false,
            "showline": true,
            "ticks": "outside"
           },
           "bgcolor": "white",
           "caxis": {
            "gridcolor": "rgb(232,232,232)",
            "linecolor": "rgb(36,36,36)",
            "showgrid": false,
            "showline": true,
            "ticks": "outside"
           }
          },
          "title": {
           "x": 0.05
          },
          "xaxis": {
           "automargin": true,
           "gridcolor": "rgb(232,232,232)",
           "linecolor": "rgb(36,36,36)",
           "showgrid": false,
           "showline": true,
           "ticks": "outside",
           "title": {
            "standoff": 15
           },
           "zeroline": false,
           "zerolinecolor": "rgb(36,36,36)"
          },
          "yaxis": {
           "automargin": true,
           "gridcolor": "rgb(232,232,232)",
           "linecolor": "rgb(36,36,36)",
           "showgrid": false,
           "showline": true,
           "ticks": "outside",
           "title": {
            "standoff": 15
           },
           "zeroline": false,
           "zerolinecolor": "rgb(36,36,36)"
          }
         }
        },
        "title": {
         "text": ""
        },
        "updatemenus": [
         {
          "buttons": [
           {
            "args": [
             {
              "hovertext": [
               null,
               [
                "Node ID: 0<br>Pullback set label: 6<br>Partial cluster label: -1<br>Node size: 22<br>Summary statistic: 38.8",
                "Node ID: 1<br>Pullback set label: 4<br>Partial cluster label: 0<br>Node size: 14<br>Summary statistic: 39.1",
                "Node ID: 2<br>Pullback set label: 0<br>Partial cluster label: -1<br>Node size: 15<br>Summary statistic: 36.3",
                "Node ID: 3<br>Pullback set label: 1<br>Partial cluster label: -1<br>Node size: 9<br>Summary statistic: 38.5",
                "Node ID: 4<br>Pullback set label: 12<br>Partial cluster label: -1<br>Node size: 13<br>Summary statistic: 42.7",
                "Node ID: 5<br>Pullback set label: 1<br>Partial cluster label: 0<br>Node size: 27<br>Summary statistic: 36.6",
                "Node ID: 6<br>Pullback set label: 3<br>Partial cluster label: -1<br>Node size: 8<br>Summary statistic: 40.5",
                "Node ID: 7<br>Pullback set label: 4<br>Partial cluster label: -1<br>Node size: 31<br>Summary statistic: 41.5",
                "Node ID: 8<br>Pullback set label: 11<br>Partial cluster label: -1<br>Node size: 18<br>Summary statistic: 40.9",
                "Node ID: 9<br>Pullback set label: 7<br>Partial cluster label: -1<br>Node size: 7<br>Summary statistic: 38.8",
                "Node ID: 10<br>Pullback set label: 12<br>Partial cluster label: 0<br>Node size: 24<br>Summary statistic: 40.9",
                "Node ID: 11<br>Pullback set label: 16<br>Partial cluster label: -1<br>Node size: 20<br>Summary statistic: 48.4",
                "Node ID: 12<br>Pullback set label: 5<br>Partial cluster label: -1<br>Node size: 9<br>Summary statistic: 41.5",
                "Node ID: 13<br>Pullback set label: 2<br>Partial cluster label: -1<br>Node size: 2<br>Summary statistic: 34.2",
                "Node ID: 14<br>Pullback set label: 17<br>Partial cluster label: -1<br>Node size: 7<br>Summary statistic: 47.3",
                "Node ID: 15<br>Pullback set label: 15<br>Partial cluster label: -1<br>Node size: 3<br>Summary statistic: 50.5",
                "Node ID: 16<br>Pullback set label: 16<br>Partial cluster label: 0<br>Node size: 10<br>Summary statistic: 50.6",
                "Node ID: 17<br>Pullback set label: 8<br>Partial cluster label: -1<br>Node size: 11<br>Summary statistic: 48.8",
                "Node ID: 18<br>Pullback set label: 9<br>Partial cluster label: -1<br>Node size: 7<br>Summary statistic: 46.9",
                "Node ID: 19<br>Pullback set label: 21<br>Partial cluster label: -1<br>Node size: 6<br>Summary statistic: 52.3",
                "Node ID: 20<br>Pullback set label: 22<br>Partial cluster label: -1<br>Node size: 1<br>Summary statistic: 50.8",
                "Node ID: 21<br>Pullback set label: 14<br>Partial cluster label: 0<br>Node size: 42<br>Summary statistic: 45.4",
                "Node ID: 22<br>Pullback set label: 26<br>Partial cluster label: 0<br>Node size: 29<br>Summary statistic: 49.6",
                "Node ID: 23<br>Pullback set label: 28<br>Partial cluster label: -1<br>Node size: 13<br>Summary statistic: 52.0",
                "Node ID: 24<br>Pullback set label: 26<br>Partial cluster label: -1<br>Node size: 16<br>Summary statistic: 49.3",
                "Node ID: 25<br>Pullback set label: 24<br>Partial cluster label: -1<br>Node size: 9<br>Summary statistic: 46.9",
                "Node ID: 26<br>Pullback set label: 14<br>Partial cluster label: -1<br>Node size: 2<br>Summary statistic: 41.3",
                "Node ID: 27<br>Pullback set label: 25<br>Partial cluster label: -1<br>Node size: 7<br>Summary statistic: 49.5",
                "Node ID: 28<br>Pullback set label: 13<br>Partial cluster label: -1<br>Node size: 4<br>Summary statistic: 43.6",
                "Node ID: 29<br>Pullback set label: 10<br>Partial cluster label: -1<br>Node size: 2<br>Summary statistic: 42.4",
                "Node ID: 30<br>Pullback set label: 27<br>Partial cluster label: -1<br>Node size: 4<br>Summary statistic: 49.8",
                "Node ID: 31<br>Pullback set label: 20<br>Partial cluster label: 0<br>Node size: 13<br>Summary statistic: 47.1",
                "Node ID: 32<br>Pullback set label: 23<br>Partial cluster label: -1<br>Node size: 5<br>Summary statistic: 46.8",
                "Node ID: 33<br>Pullback set label: 20<br>Partial cluster label: -1<br>Node size: 4<br>Summary statistic: 47.4",
                "Node ID: 34<br>Pullback set label: 19<br>Partial cluster label: -1<br>Node size: 1<br>Summary statistic: 47.2",
                "Node ID: 35<br>Pullback set label: 18<br>Partial cluster label: -1<br>Node size: 1<br>Summary statistic: 44.5"
               ]
              ],
              "marker.color": [
               null,
               [
                38.75454545454546,
                39.114285714285714,
                36.279999999999994,
                38.46666666666667,
                42.73076923076923,
                36.55185185185186,
                40.462500000000006,
                41.48709677419355,
                40.85555555555556,
                38.75714285714286,
                40.92916666666668,
                48.425000000000004,
                41.522222222222226,
                34.150000000000006,
                47.27142857142858,
                50.5,
                50.64999999999999,
                48.83636363636364,
                46.942857142857136,
                52.31666666666667,
                50.8,
                45.35238095238097,
                49.56551724137931,
                52.03846153846155,
                49.318749999999994,
                46.9,
                41.3,
                49.49999999999999,
                43.55,
                42.35,
                49.775,
                47.099999999999994,
                46.8,
                47.425,
                47.2,
                44.5
               ]
              ]
             }
            ],
            "label": "culmen_length_mm",
            "method": "restyle"
           },
           {
            "args": [
             {
              "hovertext": [
               null,
               [
                "Node ID: 0<br>Pullback set label: 6<br>Partial cluster label: -1<br>Node size: 22<br>Summary statistic: 19.4",
                "Node ID: 1<br>Pullback set label: 4<br>Partial cluster label: 0<br>Node size: 14<br>Summary statistic: 17.6",
                "Node ID: 2<br>Pullback set label: 0<br>Partial cluster label: -1<br>Node size: 15<br>Summary statistic: 18.7",
                "Node ID: 3<br>Pullback set label: 1<br>Partial cluster label: -1<br>Node size: 9<br>Summary statistic: 16.9",
                "Node ID: 4<br>Pullback set label: 12<br>Partial cluster label: -1<br>Node size: 13<br>Summary statistic: 18.6",
                "Node ID: 5<br>Pullback set label: 1<br>Partial cluster label: 0<br>Node size: 27<br>Summary statistic: 17.2",
                "Node ID: 6<br>Pullback set label: 3<br>Partial cluster label: -1<br>Node size: 8<br>Summary statistic: 19.1",
                "Node ID: 7<br>Pullback set label: 4<br>Partial cluster label: -1<br>Node size: 31<br>Summary statistic: 17.6",
                "Node ID: 8<br>Pullback set label: 11<br>Partial cluster label: -1<br>Node size: 18<br>Summary statistic: 20.1",
                "Node ID: 9<br>Pullback set label: 7<br>Partial cluster label: -1<br>Node size: 7<br>Summary statistic: 18.1",
                "Node ID: 10<br>Pullback set label: 12<br>Partial cluster label: 0<br>Node size: 24<br>Summary statistic: 18.5",
                "Node ID: 11<br>Pullback set label: 16<br>Partial cluster label: -1<br>Node size: 20<br>Summary statistic: 19.2",
                "Node ID: 12<br>Pullback set label: 5<br>Partial cluster label: -1<br>Node size: 9<br>Summary statistic: 16.6",
                "Node ID: 13<br>Pullback set label: 2<br>Partial cluster label: -1<br>Node size: 2<br>Summary statistic: 15.8",
                "Node ID: 14<br>Pullback set label: 17<br>Partial cluster label: -1<br>Node size: 7<br>Summary statistic: 18.2",
                "Node ID: 15<br>Pullback set label: 15<br>Partial cluster label: -1<br>Node size: 3<br>Summary statistic: 20.5",
                "Node ID: 16<br>Pullback set label: 16<br>Partial cluster label: 0<br>Node size: 10<br>Summary statistic: 19.3",
                "Node ID: 17<br>Pullback set label: 8<br>Partial cluster label: -1<br>Node size: 11<br>Summary statistic: 18.1",
                "Node ID: 18<br>Pullback set label: 9<br>Partial cluster label: -1<br>Node size: 7<br>Summary statistic: 17.0",
                "Node ID: 19<br>Pullback set label: 21<br>Partial cluster label: -1<br>Node size: 6<br>Summary statistic: 19.8",
                "Node ID: 20<br>Pullback set label: 22<br>Partial cluster label: -1<br>Node size: 1<br>Summary statistic: 19.0",
                "Node ID: 21<br>Pullback set label: 14<br>Partial cluster label: 0<br>Node size: 42<br>Summary statistic: 14.1",
                "Node ID: 22<br>Pullback set label: 26<br>Partial cluster label: 0<br>Node size: 29<br>Summary statistic: 15.7",
                "Node ID: 23<br>Pullback set label: 28<br>Partial cluster label: -1<br>Node size: 13<br>Summary statistic: 16.3",
                "Node ID: 24<br>Pullback set label: 26<br>Partial cluster label: -1<br>Node size: 16<br>Summary statistic: 15.7",
                "Node ID: 25<br>Pullback set label: 24<br>Partial cluster label: -1<br>Node size: 9<br>Summary statistic: 15.4",
                "Node ID: 26<br>Pullback set label: 14<br>Partial cluster label: -1<br>Node size: 2<br>Summary statistic: 14.2",
                "Node ID: 27<br>Pullback set label: 25<br>Partial cluster label: -1<br>Node size: 7<br>Summary statistic: 16.4",
                "Node ID: 28<br>Pullback set label: 13<br>Partial cluster label: -1<br>Node size: 4<br>Summary statistic: 14.8",
                "Node ID: 29<br>Pullback set label: 10<br>Partial cluster label: -1<br>Node size: 2<br>Summary statistic: 13.6",
                "Node ID: 30<br>Pullback set label: 27<br>Partial cluster label: -1<br>Node size: 4<br>Summary statistic: 14.4",
                "Node ID: 31<br>Pullback set label: 20<br>Partial cluster label: 0<br>Node size: 13<br>Summary statistic: 14.6",
                "Node ID: 32<br>Pullback set label: 23<br>Partial cluster label: -1<br>Node size: 5<br>Summary statistic: 16.1",
                "Node ID: 33<br>Pullback set label: 20<br>Partial cluster label: -1<br>Node size: 4<br>Summary statistic: 14.4",
                "Node ID: 34<br>Pullback set label: 19<br>Partial cluster label: -1<br>Node size: 1<br>Summary statistic: 15.5",
                "Node ID: 35<br>Pullback set label: 18<br>Partial cluster label: -1<br>Node size: 1<br>Summary statistic: 15.7"
               ]
              ],
              "marker.color": [
               null,
               [
                19.36818181818182,
                17.578571428571426,
                18.666666666666668,
                16.92222222222222,
                18.62307692307692,
                17.237037037037037,
                19.075,
                17.619354838709683,
                20.08888888888889,
                18.057142857142857,
                18.545833333333334,
                19.21,
                16.61111111111111,
                15.8,
                18.214285714285715,
                20.46666666666667,
                19.28,
                18.054545454545455,
                16.97142857142857,
                19.833333333333332,
                19,
                14.140476190476187,
                15.651724137931035,
                16.284615384615385,
                15.71875,
                15.355555555555554,
                14.2,
                16.400000000000002,
                14.75,
                13.6,
                14.399999999999999,
                14.600000000000001,
                16.08,
                14.45,
                15.5,
                15.7
               ]
              ]
             }
            ],
            "label": "culmen_depth_mm",
            "method": "restyle"
           },
           {
            "args": [
             {
              "hovertext": [
               null,
               [
                "Node ID: 0<br>Pullback set label: 6<br>Partial cluster label: -1<br>Node size: 22<br>Summary statistic: 188.0",
                "Node ID: 1<br>Pullback set label: 4<br>Partial cluster label: 0<br>Node size: 14<br>Summary statistic: 189.0",
                "Node ID: 2<br>Pullback set label: 0<br>Partial cluster label: -1<br>Node size: 15<br>Summary statistic: 185.0",
                "Node ID: 3<br>Pullback set label: 1<br>Partial cluster label: -1<br>Node size: 9<br>Summary statistic: 183.0",
                "Node ID: 4<br>Pullback set label: 12<br>Partial cluster label: -1<br>Node size: 13<br>Summary statistic: 193.0",
                "Node ID: 5<br>Pullback set label: 1<br>Partial cluster label: 0<br>Node size: 27<br>Summary statistic: 187.0",
                "Node ID: 6<br>Pullback set label: 3<br>Partial cluster label: -1<br>Node size: 8<br>Summary statistic: 188.0",
                "Node ID: 7<br>Pullback set label: 4<br>Partial cluster label: -1<br>Node size: 31<br>Summary statistic: 191.0",
                "Node ID: 8<br>Pullback set label: 11<br>Partial cluster label: -1<br>Node size: 18<br>Summary statistic: 193.0",
                "Node ID: 9<br>Pullback set label: 7<br>Partial cluster label: -1<br>Node size: 7<br>Summary statistic: 187.0",
                "Node ID: 10<br>Pullback set label: 12<br>Partial cluster label: 0<br>Node size: 24<br>Summary statistic: 193.0",
                "Node ID: 11<br>Pullback set label: 16<br>Partial cluster label: -1<br>Node size: 20<br>Summary statistic: 199.0",
                "Node ID: 12<br>Pullback set label: 5<br>Partial cluster label: -1<br>Node size: 9<br>Summary statistic: 193.0",
                "Node ID: 13<br>Pullback set label: 2<br>Partial cluster label: -1<br>Node size: 2<br>Summary statistic: 188.0",
                "Node ID: 14<br>Pullback set label: 17<br>Partial cluster label: -1<br>Node size: 7<br>Summary statistic: 203.0",
                "Node ID: 15<br>Pullback set label: 15<br>Partial cluster label: -1<br>Node size: 3<br>Summary statistic: 195.0",
                "Node ID: 16<br>Pullback set label: 16<br>Partial cluster label: 0<br>Node size: 10<br>Summary statistic: 201.0",
                "Node ID: 17<br>Pullback set label: 8<br>Partial cluster label: -1<br>Node size: 11<br>Summary statistic: 194.0",
                "Node ID: 18<br>Pullback set label: 9<br>Partial cluster label: -1<br>Node size: 7<br>Summary statistic: 196.0",
                "Node ID: 19<br>Pullback set label: 21<br>Partial cluster label: -1<br>Node size: 6<br>Summary statistic: 208.0",
                "Node ID: 20<br>Pullback set label: 22<br>Partial cluster label: -1<br>Node size: 1<br>Summary statistic: 210.0",
                "Node ID: 21<br>Pullback set label: 14<br>Partial cluster label: 0<br>Node size: 42<br>Summary statistic: 212.0",
                "Node ID: 22<br>Pullback set label: 26<br>Partial cluster label: 0<br>Node size: 29<br>Summary statistic: 223.0",
                "Node ID: 23<br>Pullback set label: 28<br>Partial cluster label: -1<br>Node size: 13<br>Summary statistic: 228.0",
                "Node ID: 24<br>Pullback set label: 26<br>Partial cluster label: -1<br>Node size: 16<br>Summary statistic: 220.0",
                "Node ID: 25<br>Pullback set label: 24<br>Partial cluster label: -1<br>Node size: 9<br>Summary statistic: 216.0",
                "Node ID: 26<br>Pullback set label: 14<br>Partial cluster label: -1<br>Node size: 2<br>Summary statistic: 212.0",
                "Node ID: 27<br>Pullback set label: 25<br>Partial cluster label: -1<br>Node size: 7<br>Summary statistic: 219.0",
                "Node ID: 28<br>Pullback set label: 13<br>Partial cluster label: -1<br>Node size: 4<br>Summary statistic: 210.0",
                "Node ID: 29<br>Pullback set label: 10<br>Partial cluster label: -1<br>Node size: 2<br>Summary statistic: 209.0",
                "Node ID: 30<br>Pullback set label: 27<br>Partial cluster label: -1<br>Node size: 4<br>Summary statistic: 221.0",
                "Node ID: 31<br>Pullback set label: 20<br>Partial cluster label: 0<br>Node size: 13<br>Summary statistic: 217.0",
                "Node ID: 32<br>Pullback set label: 23<br>Partial cluster label: -1<br>Node size: 5<br>Summary statistic: 215.0",
                "Node ID: 33<br>Pullback set label: 20<br>Partial cluster label: -1<br>Node size: 4<br>Summary statistic: 213.0",
                "Node ID: 34<br>Pullback set label: 19<br>Partial cluster label: -1<br>Node size: 1<br>Summary statistic: 215.0",
                "Node ID: 35<br>Pullback set label: 18<br>Partial cluster label: -1<br>Node size: 1<br>Summary statistic: 217.0"
               ]
              ],
              "marker.color": [
               null,
               [
                187.63636363636363,
                189.21428571428572,
                185.2,
                182.55555555555554,
                193.46153846153845,
                187.44444444444446,
                188,
                191.29032258064515,
                192.55555555555554,
                186.57142857142858,
                193.20833333333334,
                199.3,
                193.11111111111111,
                187.5,
                202.57142857142858,
                195.33333333333334,
                201.2,
                193.63636363636363,
                196.28571428571428,
                208.16666666666666,
                210,
                211.76190476190476,
                222.86206896551724,
                228.30769230769232,
                220.375,
                216.33333333333334,
                212,
                219.42857142857142,
                210.25,
                209,
                221,
                216.84615384615384,
                214.6,
                213.25,
                215,
                217
               ]
              ]
             }
            ],
            "label": "flipper_length_mm",
            "method": "restyle"
           },
           {
            "args": [
             {
              "hovertext": [
               null,
               [
                "Node ID: 0<br>Pullback set label: 6<br>Partial cluster label: -1<br>Node size: 22<br>Summary statistic: 3740.0",
                "Node ID: 1<br>Pullback set label: 4<br>Partial cluster label: 0<br>Node size: 14<br>Summary statistic: 3370.0",
                "Node ID: 2<br>Pullback set label: 0<br>Partial cluster label: -1<br>Node size: 15<br>Summary statistic: 3380.0",
                "Node ID: 3<br>Pullback set label: 1<br>Partial cluster label: -1<br>Node size: 9<br>Summary statistic: 3260.0",
                "Node ID: 4<br>Pullback set label: 12<br>Partial cluster label: -1<br>Node size: 13<br>Summary statistic: 3940.0",
                "Node ID: 5<br>Pullback set label: 1<br>Partial cluster label: 0<br>Node size: 27<br>Summary statistic: 3280.0",
                "Node ID: 6<br>Pullback set label: 3<br>Partial cluster label: -1<br>Node size: 8<br>Summary statistic: 3610.0",
                "Node ID: 7<br>Pullback set label: 4<br>Partial cluster label: -1<br>Node size: 31<br>Summary statistic: 3490.0",
                "Node ID: 8<br>Pullback set label: 11<br>Partial cluster label: -1<br>Node size: 18<br>Summary statistic: 4080.0",
                "Node ID: 9<br>Pullback set label: 7<br>Partial cluster label: -1<br>Node size: 7<br>Summary statistic: 3710.0",
                "Node ID: 10<br>Pullback set label: 12<br>Partial cluster label: 0<br>Node size: 24<br>Summary statistic: 4100.0",
                "Node ID: 11<br>Pullback set label: 16<br>Partial cluster label: -1<br>Node size: 20<br>Summary statistic: 4040.0",
                "Node ID: 12<br>Pullback set label: 5<br>Partial cluster label: -1<br>Node size: 9<br>Summary statistic: 3480.0",
                "Node ID: 13<br>Pullback set label: 2<br>Partial cluster label: -1<br>Node size: 2<br>Summary statistic: 3300.0",
                "Node ID: 14<br>Pullback set label: 17<br>Partial cluster label: -1<br>Node size: 7<br>Summary statistic: 4290.0",
                "Node ID: 15<br>Pullback set label: 15<br>Partial cluster label: -1<br>Node size: 3<br>Summary statistic: 4220.0",
                "Node ID: 16<br>Pullback set label: 16<br>Partial cluster label: 0<br>Node size: 10<br>Summary statistic: 3980.0",
                "Node ID: 17<br>Pullback set label: 8<br>Partial cluster label: -1<br>Node size: 11<br>Summary statistic: 3730.0",
                "Node ID: 18<br>Pullback set label: 9<br>Partial cluster label: -1<br>Node size: 7<br>Summary statistic: 3660.0",
                "Node ID: 19<br>Pullback set label: 21<br>Partial cluster label: -1<br>Node size: 6<br>Summary statistic: 4380.0",
                "Node ID: 20<br>Pullback set label: 22<br>Partial cluster label: -1<br>Node size: 1<br>Summary statistic: 4100.0",
                "Node ID: 21<br>Pullback set label: 14<br>Partial cluster label: 0<br>Node size: 42<br>Summary statistic: 4610.0",
                "Node ID: 22<br>Pullback set label: 26<br>Partial cluster label: 0<br>Node size: 29<br>Summary statistic: 5540.0",
                "Node ID: 23<br>Pullback set label: 28<br>Partial cluster label: -1<br>Node size: 13<br>Summary statistic: 5800.0",
                "Node ID: 24<br>Pullback set label: 26<br>Partial cluster label: -1<br>Node size: 16<br>Summary statistic: 5440.0",
                "Node ID: 25<br>Pullback set label: 24<br>Partial cluster label: -1<br>Node size: 9<br>Summary statistic: 5090.0",
                "Node ID: 26<br>Pullback set label: 14<br>Partial cluster label: -1<br>Node size: 2<br>Summary statistic: 4680.0",
                "Node ID: 27<br>Pullback set label: 25<br>Partial cluster label: -1<br>Node size: 7<br>Summary statistic: 5400.0",
                "Node ID: 28<br>Pullback set label: 13<br>Partial cluster label: -1<br>Node size: 4<br>Summary statistic: 4500.0",
                "Node ID: 29<br>Pullback set label: 10<br>Partial cluster label: -1<br>Node size: 2<br>Summary statistic: 4050.0",
                "Node ID: 30<br>Pullback set label: 27<br>Partial cluster label: -1<br>Node size: 4<br>Summary statistic: 5450.0",
                "Node ID: 31<br>Pullback set label: 20<br>Partial cluster label: 0<br>Node size: 13<br>Summary statistic: 4920.0",
                "Node ID: 32<br>Pullback set label: 23<br>Partial cluster label: -1<br>Node size: 5<br>Summary statistic: 5180.0",
                "Node ID: 33<br>Pullback set label: 20<br>Partial cluster label: -1<br>Node size: 4<br>Summary statistic: 4980.0",
                "Node ID: 34<br>Pullback set label: 19<br>Partial cluster label: -1<br>Node size: 1<br>Summary statistic: 4980.0",
                "Node ID: 35<br>Pullback set label: 18<br>Partial cluster label: -1<br>Node size: 1<br>Summary statistic: 4880.0"
               ]
              ],
              "marker.color": [
               null,
               [
                3742.0454545454545,
                3373.214285714286,
                3378.3333333333335,
                3255.5555555555557,
                3940.3846153846152,
                3277.777777777778,
                3609.375,
                3492.7419354838707,
                4075,
                3707.1428571428573,
                4095.8333333333335,
                4042.5,
                3475,
                3300,
                4285.714285714285,
                4225,
                3980,
                3727.2727272727275,
                3664.285714285714,
                4375,
                4100,
                4614.880952380952,
                5543.103448275862,
                5803.846153846154,
                5439.0625,
                5086.111111111111,
                4675,
                5396.428571428572,
                4500,
                4050,
                5450,
                4923.076923076923,
                5175,
                4981.25,
                4975,
                4875
               ]
              ]
             }
            ],
            "label": "body_mass_g",
            "method": "restyle"
           },
           {
            "args": [
             {
              "hovertext": [
               null,
               [
                "Node ID: 0<br>Pullback set label: 6<br>Partial cluster label: -1<br>Node size: 22<br>Summary statistic: 0",
                "Node ID: 1<br>Pullback set label: 4<br>Partial cluster label: 0<br>Node size: 14<br>Summary statistic: 1.0",
                "Node ID: 2<br>Pullback set label: 0<br>Partial cluster label: -1<br>Node size: 15<br>Summary statistic: 1.0",
                "Node ID: 3<br>Pullback set label: 1<br>Partial cluster label: -1<br>Node size: 9<br>Summary statistic: 1.0",
                "Node ID: 4<br>Pullback set label: 12<br>Partial cluster label: -1<br>Node size: 13<br>Summary statistic: 0",
                "Node ID: 5<br>Pullback set label: 1<br>Partial cluster label: 0<br>Node size: 27<br>Summary statistic: 1.0",
                "Node ID: 6<br>Pullback set label: 3<br>Partial cluster label: -1<br>Node size: 8<br>Summary statistic: 1.0",
                "Node ID: 7<br>Pullback set label: 4<br>Partial cluster label: -1<br>Node size: 31<br>Summary statistic: 1.0",
                "Node ID: 8<br>Pullback set label: 11<br>Partial cluster label: -1<br>Node size: 18<br>Summary statistic: 0",
                "Node ID: 9<br>Pullback set label: 7<br>Partial cluster label: -1<br>Node size: 7<br>Summary statistic: 0",
                "Node ID: 10<br>Pullback set label: 12<br>Partial cluster label: 0<br>Node size: 24<br>Summary statistic: 0",
                "Node ID: 11<br>Pullback set label: 16<br>Partial cluster label: -1<br>Node size: 20<br>Summary statistic: 0",
                "Node ID: 12<br>Pullback set label: 5<br>Partial cluster label: -1<br>Node size: 9<br>Summary statistic: 1.0",
                "Node ID: 13<br>Pullback set label: 2<br>Partial cluster label: -1<br>Node size: 2<br>Summary statistic: 1.0",
                "Node ID: 14<br>Pullback set label: 17<br>Partial cluster label: -1<br>Node size: 7<br>Summary statistic: 0",
                "Node ID: 15<br>Pullback set label: 15<br>Partial cluster label: -1<br>Node size: 3<br>Summary statistic: 0",
                "Node ID: 16<br>Pullback set label: 16<br>Partial cluster label: 0<br>Node size: 10<br>Summary statistic: 0",
                "Node ID: 17<br>Pullback set label: 8<br>Partial cluster label: -1<br>Node size: 11<br>Summary statistic: 1.0",
                "Node ID: 18<br>Pullback set label: 9<br>Partial cluster label: -1<br>Node size: 7<br>Summary statistic: 1.0",
                "Node ID: 19<br>Pullback set label: 21<br>Partial cluster label: -1<br>Node size: 6<br>Summary statistic: 0",
                "Node ID: 20<br>Pullback set label: 22<br>Partial cluster label: -1<br>Node size: 1<br>Summary statistic: 0",
                "Node ID: 21<br>Pullback set label: 14<br>Partial cluster label: 0<br>Node size: 42<br>Summary statistic: 1.0",
                "Node ID: 22<br>Pullback set label: 26<br>Partial cluster label: 0<br>Node size: 29<br>Summary statistic: 0",
                "Node ID: 23<br>Pullback set label: 28<br>Partial cluster label: -1<br>Node size: 13<br>Summary statistic: 0",
                "Node ID: 24<br>Pullback set label: 26<br>Partial cluster label: -1<br>Node size: 16<br>Summary statistic: 0",
                "Node ID: 25<br>Pullback set label: 24<br>Partial cluster label: -1<br>Node size: 9<br>Summary statistic: 0",
                "Node ID: 26<br>Pullback set label: 14<br>Partial cluster label: -1<br>Node size: 2<br>Summary statistic: 1.0",
                "Node ID: 27<br>Pullback set label: 25<br>Partial cluster label: -1<br>Node size: 7<br>Summary statistic: 0",
                "Node ID: 28<br>Pullback set label: 13<br>Partial cluster label: -1<br>Node size: 4<br>Summary statistic: 1.0",
                "Node ID: 29<br>Pullback set label: 10<br>Partial cluster label: -1<br>Node size: 2<br>Summary statistic: 1.0",
                "Node ID: 30<br>Pullback set label: 27<br>Partial cluster label: -1<br>Node size: 4<br>Summary statistic: 0",
                "Node ID: 31<br>Pullback set label: 20<br>Partial cluster label: 0<br>Node size: 13<br>Summary statistic: 1.0",
                "Node ID: 32<br>Pullback set label: 23<br>Partial cluster label: -1<br>Node size: 5<br>Summary statistic: 0",
                "Node ID: 33<br>Pullback set label: 20<br>Partial cluster label: -1<br>Node size: 4<br>Summary statistic: 1.0",
                "Node ID: 34<br>Pullback set label: 19<br>Partial cluster label: -1<br>Node size: 1<br>Summary statistic: 1.0",
                "Node ID: 35<br>Pullback set label: 18<br>Partial cluster label: -1<br>Node size: 1<br>Summary statistic: 0"
               ]
              ],
              "marker.color": [
               null,
               [
                0,
                1,
                1,
                1,
                0,
                1,
                1,
                1,
                0,
                0,
                0,
                0,
                1,
                1,
                0,
                0,
                0,
                1,
                1,
                0,
                0,
                1,
                0,
                0,
                0,
                0,
                1,
                0,
                1,
                1,
                0,
                1,
                0,
                1,
                1,
                0
               ]
              ]
             }
            ],
            "label": "sex_FEMALE",
            "method": "restyle"
           },
           {
            "args": [
             {
              "hovertext": [
               null,
               [
                "Node ID: 0<br>Pullback set label: 6<br>Partial cluster label: -1<br>Node size: 22<br>Summary statistic: 1.0",
                "Node ID: 1<br>Pullback set label: 4<br>Partial cluster label: 0<br>Node size: 14<br>Summary statistic: 0",
                "Node ID: 2<br>Pullback set label: 0<br>Partial cluster label: -1<br>Node size: 15<br>Summary statistic: 0",
                "Node ID: 3<br>Pullback set label: 1<br>Partial cluster label: -1<br>Node size: 9<br>Summary statistic: 0",
                "Node ID: 4<br>Pullback set label: 12<br>Partial cluster label: -1<br>Node size: 13<br>Summary statistic: 1.0",
                "Node ID: 5<br>Pullback set label: 1<br>Partial cluster label: 0<br>Node size: 27<br>Summary statistic: 0",
                "Node ID: 6<br>Pullback set label: 3<br>Partial cluster label: -1<br>Node size: 8<br>Summary statistic: 0",
                "Node ID: 7<br>Pullback set label: 4<br>Partial cluster label: -1<br>Node size: 31<br>Summary statistic: 0",
                "Node ID: 8<br>Pullback set label: 11<br>Partial cluster label: -1<br>Node size: 18<br>Summary statistic: 1.0",
                "Node ID: 9<br>Pullback set label: 7<br>Partial cluster label: -1<br>Node size: 7<br>Summary statistic: 1.0",
                "Node ID: 10<br>Pullback set label: 12<br>Partial cluster label: 0<br>Node size: 24<br>Summary statistic: 1.0",
                "Node ID: 11<br>Pullback set label: 16<br>Partial cluster label: -1<br>Node size: 20<br>Summary statistic: 1.0",
                "Node ID: 12<br>Pullback set label: 5<br>Partial cluster label: -1<br>Node size: 9<br>Summary statistic: 0",
                "Node ID: 13<br>Pullback set label: 2<br>Partial cluster label: -1<br>Node size: 2<br>Summary statistic: 0",
                "Node ID: 14<br>Pullback set label: 17<br>Partial cluster label: -1<br>Node size: 7<br>Summary statistic: 1.0",
                "Node ID: 15<br>Pullback set label: 15<br>Partial cluster label: -1<br>Node size: 3<br>Summary statistic: 1.0",
                "Node ID: 16<br>Pullback set label: 16<br>Partial cluster label: 0<br>Node size: 10<br>Summary statistic: 1.0",
                "Node ID: 17<br>Pullback set label: 8<br>Partial cluster label: -1<br>Node size: 11<br>Summary statistic: 0",
                "Node ID: 18<br>Pullback set label: 9<br>Partial cluster label: -1<br>Node size: 7<br>Summary statistic: 0",
                "Node ID: 19<br>Pullback set label: 21<br>Partial cluster label: -1<br>Node size: 6<br>Summary statistic: 1.0",
                "Node ID: 20<br>Pullback set label: 22<br>Partial cluster label: -1<br>Node size: 1<br>Summary statistic: 1.0",
                "Node ID: 21<br>Pullback set label: 14<br>Partial cluster label: 0<br>Node size: 42<br>Summary statistic: 0",
                "Node ID: 22<br>Pullback set label: 26<br>Partial cluster label: 0<br>Node size: 29<br>Summary statistic: 1.0",
                "Node ID: 23<br>Pullback set label: 28<br>Partial cluster label: -1<br>Node size: 13<br>Summary statistic: 1.0",
                "Node ID: 24<br>Pullback set label: 26<br>Partial cluster label: -1<br>Node size: 16<br>Summary statistic: 1.0",
                "Node ID: 25<br>Pullback set label: 24<br>Partial cluster label: -1<br>Node size: 9<br>Summary statistic: 1.0",
                "Node ID: 26<br>Pullback set label: 14<br>Partial cluster label: -1<br>Node size: 2<br>Summary statistic: 0",
                "Node ID: 27<br>Pullback set label: 25<br>Partial cluster label: -1<br>Node size: 7<br>Summary statistic: 1.0",
                "Node ID: 28<br>Pullback set label: 13<br>Partial cluster label: -1<br>Node size: 4<br>Summary statistic: 0",
                "Node ID: 29<br>Pullback set label: 10<br>Partial cluster label: -1<br>Node size: 2<br>Summary statistic: 0",
                "Node ID: 30<br>Pullback set label: 27<br>Partial cluster label: -1<br>Node size: 4<br>Summary statistic: 1.0",
                "Node ID: 31<br>Pullback set label: 20<br>Partial cluster label: 0<br>Node size: 13<br>Summary statistic: 0",
                "Node ID: 32<br>Pullback set label: 23<br>Partial cluster label: -1<br>Node size: 5<br>Summary statistic: 1.0",
                "Node ID: 33<br>Pullback set label: 20<br>Partial cluster label: -1<br>Node size: 4<br>Summary statistic: 0",
                "Node ID: 34<br>Pullback set label: 19<br>Partial cluster label: -1<br>Node size: 1<br>Summary statistic: 0",
                "Node ID: 35<br>Pullback set label: 18<br>Partial cluster label: -1<br>Node size: 1<br>Summary statistic: 0"
               ]
              ],
              "marker.color": [
               null,
               [
                1,
                0,
                0,
                0,
                1,
                0,
                0,
                0,
                1,
                1,
                1,
                1,
                0,
                0,
                1,
                1,
                1,
                0,
                0,
                1,
                1,
                0,
                1,
                1,
                1,
                1,
                0,
                1,
                0,
                0,
                1,
                0,
                1,
                0,
                0,
                0
               ]
              ]
             }
            ],
            "label": "sex_MALE",
            "method": "restyle"
           }
          ],
          "direction": "down",
          "pad": {
           "r": 10,
           "t": 10
          },
          "showactive": true,
          "x": 0.11,
          "xanchor": "left",
          "y": 1.1,
          "yanchor": "top"
         }
        ],
        "xaxis": {
         "showgrid": false,
         "showline": false,
         "showticklabels": false,
         "ticks": "",
         "title": {
          "text": ""
         },
         "zeroline": false
        },
        "yaxis": {
         "showgrid": false,
         "showline": false,
         "showticklabels": false,
         "ticks": "",
         "title": {
          "text": ""
         },
         "zeroline": false
        }
       }
      }
     },
     "metadata": {},
     "output_type": "display_data"
    }
   ],
   "source": [
    "fig = plot_static_mapper_graph(pipe,data=penguins_PCA, color_data=datos_final)\n",
    "\n",
    "#fig.update_layout(showlegend=False)\n",
    "\n",
    "fig.show(config={'scrollZoom': True})"
   ]
  }
 ],
 "metadata": {
  "kernelspec": {
   "display_name": "labPython",
   "language": "python",
   "name": "python3"
  },
  "language_info": {
   "codemirror_mode": {
    "name": "ipython",
    "version": 3
   },
   "file_extension": ".py",
   "mimetype": "text/x-python",
   "name": "python",
   "nbconvert_exporter": "python",
   "pygments_lexer": "ipython3",
   "version": "3.11.5"
  }
 },
 "nbformat": 4,
 "nbformat_minor": 5
}
